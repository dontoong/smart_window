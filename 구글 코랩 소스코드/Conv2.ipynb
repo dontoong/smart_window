{
  "cells": [
    {
      "cell_type": "code",
      "execution_count": null,
      "metadata": {
        "colab": {
          "base_uri": "https://localhost:8080/"
        },
        "id": "lDHEZA1zuIXW",
        "outputId": "364fe557-b3b9-4f6f-cf3d-1e0c717f5162"
      },
      "outputs": [
        {
          "output_type": "stream",
          "name": "stdout",
          "text": [
            "Mounted at /content/drive\n"
          ]
        }
      ],
      "source": [
        "from google.colab import drive\n",
        "drive.mount('/content/drive')"
      ]
    },
    {
      "cell_type": "code",
      "execution_count": null,
      "metadata": {
        "id": "CL9WCJI7wExi"
      },
      "outputs": [],
      "source": [
        "#io와 pandas 모듈 import\n",
        "import io\n",
        "import os\n",
        "import pandas as pd\n",
        "import numpy as np\n",
        "import seaborn as sns\n",
        "import matplotlib.pyplot as plt\n",
        "import datetime\n",
        "from sklearn.preprocessing import MinMaxScaler, LabelEncoder, OrdinalEncoder, OneHotEncoder\n",
        "from scipy import interpolate\n",
        "from matplotlib import dates\n",
        "import tensorflow as tf \n",
        "from tensorflow import data\n",
        "from tensorflow import keras\n",
        "from tensorflow.keras.models import Sequential\n",
        "from tensorflow.keras.layers import Dense, LSTM, Conv1D, Lambda, MaxPooling1D, Flatten, Bidirectional, Conv2D\n",
        "from tensorflow.keras.losses import Huber\n",
        "from tensorflow.keras.optimizers import Adam, SGD\n",
        "from tensorflow.keras.callbacks import EarlyStopping, ModelCheckpoint"
      ]
    },
    {
      "cell_type": "code",
      "execution_count": null,
      "metadata": {
        "colab": {
          "base_uri": "https://localhost:8080/",
          "height": 206
        },
        "id": "ERZ3vsv4uJ9g",
        "outputId": "ddc231b3-a877-49c3-ae2e-03ecf7709e66"
      },
      "outputs": [
        {
          "output_type": "execute_result",
          "data": {
            "text/plain": [
              "              dt  pm10  pm2.5   co\n",
              "0  2015-01-03:01  38.0   21.0  0.3\n",
              "1  2015-01-03:02  29.0   21.0  0.3\n",
              "2  2015-01-03:03  35.0   21.0  0.3\n",
              "3  2015-01-03:04  31.0   22.0  0.3\n",
              "4  2015-01-03:05  34.0   26.0  0.5"
            ],
            "text/html": [
              "\n",
              "  <div id=\"df-de448bf4-0e6c-4776-b177-bf182f2ddc59\">\n",
              "    <div class=\"colab-df-container\">\n",
              "      <div>\n",
              "<style scoped>\n",
              "    .dataframe tbody tr th:only-of-type {\n",
              "        vertical-align: middle;\n",
              "    }\n",
              "\n",
              "    .dataframe tbody tr th {\n",
              "        vertical-align: top;\n",
              "    }\n",
              "\n",
              "    .dataframe thead th {\n",
              "        text-align: right;\n",
              "    }\n",
              "</style>\n",
              "<table border=\"1\" class=\"dataframe\">\n",
              "  <thead>\n",
              "    <tr style=\"text-align: right;\">\n",
              "      <th></th>\n",
              "      <th>dt</th>\n",
              "      <th>pm10</th>\n",
              "      <th>pm2.5</th>\n",
              "      <th>co</th>\n",
              "    </tr>\n",
              "  </thead>\n",
              "  <tbody>\n",
              "    <tr>\n",
              "      <th>0</th>\n",
              "      <td>2015-01-03:01</td>\n",
              "      <td>38.0</td>\n",
              "      <td>21.0</td>\n",
              "      <td>0.3</td>\n",
              "    </tr>\n",
              "    <tr>\n",
              "      <th>1</th>\n",
              "      <td>2015-01-03:02</td>\n",
              "      <td>29.0</td>\n",
              "      <td>21.0</td>\n",
              "      <td>0.3</td>\n",
              "    </tr>\n",
              "    <tr>\n",
              "      <th>2</th>\n",
              "      <td>2015-01-03:03</td>\n",
              "      <td>35.0</td>\n",
              "      <td>21.0</td>\n",
              "      <td>0.3</td>\n",
              "    </tr>\n",
              "    <tr>\n",
              "      <th>3</th>\n",
              "      <td>2015-01-03:04</td>\n",
              "      <td>31.0</td>\n",
              "      <td>22.0</td>\n",
              "      <td>0.3</td>\n",
              "    </tr>\n",
              "    <tr>\n",
              "      <th>4</th>\n",
              "      <td>2015-01-03:05</td>\n",
              "      <td>34.0</td>\n",
              "      <td>26.0</td>\n",
              "      <td>0.5</td>\n",
              "    </tr>\n",
              "  </tbody>\n",
              "</table>\n",
              "</div>\n",
              "      <button class=\"colab-df-convert\" onclick=\"convertToInteractive('df-de448bf4-0e6c-4776-b177-bf182f2ddc59')\"\n",
              "              title=\"Convert this dataframe to an interactive table.\"\n",
              "              style=\"display:none;\">\n",
              "        \n",
              "  <svg xmlns=\"http://www.w3.org/2000/svg\" height=\"24px\"viewBox=\"0 0 24 24\"\n",
              "       width=\"24px\">\n",
              "    <path d=\"M0 0h24v24H0V0z\" fill=\"none\"/>\n",
              "    <path d=\"M18.56 5.44l.94 2.06.94-2.06 2.06-.94-2.06-.94-.94-2.06-.94 2.06-2.06.94zm-11 1L8.5 8.5l.94-2.06 2.06-.94-2.06-.94L8.5 2.5l-.94 2.06-2.06.94zm10 10l.94 2.06.94-2.06 2.06-.94-2.06-.94-.94-2.06-.94 2.06-2.06.94z\"/><path d=\"M17.41 7.96l-1.37-1.37c-.4-.4-.92-.59-1.43-.59-.52 0-1.04.2-1.43.59L10.3 9.45l-7.72 7.72c-.78.78-.78 2.05 0 2.83L4 21.41c.39.39.9.59 1.41.59.51 0 1.02-.2 1.41-.59l7.78-7.78 2.81-2.81c.8-.78.8-2.07 0-2.86zM5.41 20L4 18.59l7.72-7.72 1.47 1.35L5.41 20z\"/>\n",
              "  </svg>\n",
              "      </button>\n",
              "      \n",
              "  <style>\n",
              "    .colab-df-container {\n",
              "      display:flex;\n",
              "      flex-wrap:wrap;\n",
              "      gap: 12px;\n",
              "    }\n",
              "\n",
              "    .colab-df-convert {\n",
              "      background-color: #E8F0FE;\n",
              "      border: none;\n",
              "      border-radius: 50%;\n",
              "      cursor: pointer;\n",
              "      display: none;\n",
              "      fill: #1967D2;\n",
              "      height: 32px;\n",
              "      padding: 0 0 0 0;\n",
              "      width: 32px;\n",
              "    }\n",
              "\n",
              "    .colab-df-convert:hover {\n",
              "      background-color: #E2EBFA;\n",
              "      box-shadow: 0px 1px 2px rgba(60, 64, 67, 0.3), 0px 1px 3px 1px rgba(60, 64, 67, 0.15);\n",
              "      fill: #174EA6;\n",
              "    }\n",
              "\n",
              "    [theme=dark] .colab-df-convert {\n",
              "      background-color: #3B4455;\n",
              "      fill: #D2E3FC;\n",
              "    }\n",
              "\n",
              "    [theme=dark] .colab-df-convert:hover {\n",
              "      background-color: #434B5C;\n",
              "      box-shadow: 0px 1px 3px 1px rgba(0, 0, 0, 0.15);\n",
              "      filter: drop-shadow(0px 1px 2px rgba(0, 0, 0, 0.3));\n",
              "      fill: #FFFFFF;\n",
              "    }\n",
              "  </style>\n",
              "\n",
              "      <script>\n",
              "        const buttonEl =\n",
              "          document.querySelector('#df-de448bf4-0e6c-4776-b177-bf182f2ddc59 button.colab-df-convert');\n",
              "        buttonEl.style.display =\n",
              "          google.colab.kernel.accessAllowed ? 'block' : 'none';\n",
              "\n",
              "        async function convertToInteractive(key) {\n",
              "          const element = document.querySelector('#df-de448bf4-0e6c-4776-b177-bf182f2ddc59');\n",
              "          const dataTable =\n",
              "            await google.colab.kernel.invokeFunction('convertToInteractive',\n",
              "                                                     [key], {});\n",
              "          if (!dataTable) return;\n",
              "\n",
              "          const docLinkHtml = 'Like what you see? Visit the ' +\n",
              "            '<a target=\"_blank\" href=https://colab.research.google.com/notebooks/data_table.ipynb>data table notebook</a>'\n",
              "            + ' to learn more about interactive tables.';\n",
              "          element.innerHTML = '';\n",
              "          dataTable['output_type'] = 'display_data';\n",
              "          await google.colab.output.renderOutput(dataTable, element);\n",
              "          const docLink = document.createElement('div');\n",
              "          docLink.innerHTML = docLinkHtml;\n",
              "          element.appendChild(docLink);\n",
              "        }\n",
              "      </script>\n",
              "    </div>\n",
              "  </div>\n",
              "  "
            ]
          },
          "metadata": {},
          "execution_count": 3
        }
      ],
      "source": [
        "#불러올 파일의 경로를 filename 변수에 저장\n",
        "weather_train = '/content/drive/MyDrive/seoul_airquality_pm25.csv'\n",
        "\n",
        "#pandas read_csv로 불러오기\n",
        "data = pd.read_csv(weather_train)\n",
        "data.head()"
      ]
    },
    {
      "cell_type": "code",
      "execution_count": null,
      "metadata": {
        "colab": {
          "base_uri": "https://localhost:8080/"
        },
        "id": "V1rfxJnHwHMv",
        "outputId": "d08dabb4-6acc-4f4e-a3ac-8a66ac766390"
      },
      "outputs": [
        {
          "output_type": "stream",
          "name": "stdout",
          "text": [
            "<class 'pandas.core.frame.DataFrame'>\n",
            "RangeIndex: 61320 entries, 0 to 61319\n",
            "Data columns (total 4 columns):\n",
            " #   Column  Non-Null Count  Dtype  \n",
            "---  ------  --------------  -----  \n",
            " 0   dt      61320 non-null  object \n",
            " 1   pm10    59388 non-null  float64\n",
            " 2   pm2.5   59738 non-null  float64\n",
            " 3   co      59886 non-null  float64\n",
            "dtypes: float64(3), object(1)\n",
            "memory usage: 1.9+ MB\n"
          ]
        }
      ],
      "source": [
        "data.info()"
      ]
    },
    {
      "cell_type": "code",
      "source": [
        "data.isnull().sum()"
      ],
      "metadata": {
        "colab": {
          "base_uri": "https://localhost:8080/"
        },
        "id": "wMkdXorQbw1v",
        "outputId": "6b6d5c42-6a1c-4222-ac21-583efb4244ea"
      },
      "execution_count": null,
      "outputs": [
        {
          "output_type": "execute_result",
          "data": {
            "text/plain": [
              "dt          0\n",
              "pm10     1932\n",
              "pm2.5    1582\n",
              "co       1434\n",
              "dtype: int64"
            ]
          },
          "metadata": {},
          "execution_count": 5
        }
      ]
    },
    {
      "cell_type": "code",
      "source": [
        "data.interpolate( method = 'linear', inplace = True)"
      ],
      "metadata": {
        "id": "5F7FmrGfeQN9"
      },
      "execution_count": null,
      "outputs": []
    },
    {
      "cell_type": "code",
      "source": [
        "data.isnull().sum()"
      ],
      "metadata": {
        "colab": {
          "base_uri": "https://localhost:8080/"
        },
        "id": "YxAy90w1e1rB",
        "outputId": "97029b10-6ad2-4d22-cb73-ddabb7567278"
      },
      "execution_count": null,
      "outputs": [
        {
          "output_type": "execute_result",
          "data": {
            "text/plain": [
              "dt       0\n",
              "pm10     0\n",
              "pm2.5    0\n",
              "co       0\n",
              "dtype: int64"
            ]
          },
          "metadata": {},
          "execution_count": 7
        }
      ]
    },
    {
      "cell_type": "code",
      "source": [
        "data.boxplot(column=['pm10'],figsize=(20,10))"
      ],
      "metadata": {
        "colab": {
          "base_uri": "https://localhost:8080/",
          "height": 556
        },
        "id": "Bc0xD9naA5vF",
        "outputId": "680010fc-ed83-4657-9382-32cf7391c064"
      },
      "execution_count": null,
      "outputs": [
        {
          "output_type": "execute_result",
          "data": {
            "text/plain": [
              "<matplotlib.axes._subplots.AxesSubplot at 0x7f92cf964890>"
            ]
          },
          "metadata": {},
          "execution_count": 8
        },
        {
          "output_type": "display_data",
          "data": {
            "text/plain": [
              "<Figure size 1440x720 with 1 Axes>"
            ],
            "image/png": "[encoded data removed]"
          },
          "metadata": {
            "needs_background": "light"
          }
        }
      ]
    },
    {
      "cell_type": "markdown",
      "source": [
        "#이상치 제거하기"
      ],
      "metadata": {
        "id": "mEqAejss9Azv"
      }
    },
    {
      "cell_type": "code",
      "source": [
        "q3 = data.quantile(0.99) # df['국어'].quantile(0.75) 처럼 특정 열만 적용 가능\n",
        "q1 = data.quantile(0.0)\n",
        "\n",
        "iqr = q3 - q1\n",
        "\n",
        "print(\"q1 \\n\",q1)\n",
        "print(\"q3 \\n\",q3)\n",
        "print(\"iqr \\n\",iqr)"
      ],
      "metadata": {
        "colab": {
          "base_uri": "https://localhost:8080/"
        },
        "id": "a81z0Se59FnV",
        "outputId": "6c97870c-ecda-4e48-c5e5-8bbb10c92053"
      },
      "execution_count": null,
      "outputs": [
        {
          "output_type": "stream",
          "name": "stdout",
          "text": [
            "q1 \n",
            " pm10     1.0\n",
            "pm2.5    1.0\n",
            "co       0.1\n",
            "Name: 0.0, dtype: float64\n",
            "q3 \n",
            " pm10     151.0\n",
            "pm2.5     83.0\n",
            "co         1.3\n",
            "Name: 0.99, dtype: float64\n",
            "iqr \n",
            " pm10     150.0\n",
            "pm2.5     82.0\n",
            "co         1.2\n",
            "dtype: float64\n"
          ]
        }
      ]
    },
    {
      "cell_type": "code",
      "source": [
        "def is_pm10_outlier(data):\n",
        "    pm10_score = data['pm10']\n",
        "    if pm10_score > q3['pm10'] + 1.5 * iqr['pm10'] or pm10_score < q1['pm10'] - 1.5 * iqr['pm10']:\n",
        "      pm10_score = None\n",
        "      return pm10_score\n",
        "    else:\n",
        "      return pm10_score\n",
        "\n",
        "def is_pm25_outlier(data):\n",
        "    pm25_score = data['pm2.5']\n",
        "    if pm25_score > q3['pm2.5'] + 1.5 * iqr['pm2.5'] or pm25_score < q1['pm2.5'] - 1.5 * iqr['pm2.5']:\n",
        "      pm25_score = None\n",
        "      return pm25_score\n",
        "    else:\n",
        "      return pm25_score\n",
        "\n",
        "\"\"\"def is_o3_outlier(data):\n",
        "    o3_score = data['o3']\n",
        "    if o3_score > q3['o3'] + 1.5 * iqr['o3'] or o3_score < q1['o3'] - 1.5 * iqr['o3']:\n",
        "      o3_score = None\n",
        "      return o3_score\n",
        "    else:\n",
        "      return o3_score\n",
        "\n",
        "def is_no2_outlier(data):\n",
        "    no2_score = data['no2']\n",
        "    if no2_score > q3['no2'] + 1.5 * iqr['no2'] or no2_score < q1['no2'] - 1.5 * iqr['no2']:\n",
        "      no2_score = None\n",
        "      return no2_score\n",
        "    else:\n",
        "      return no2_score\"\"\"\n",
        "\n",
        "def is_co_outlier(data):\n",
        "    co_score = data['co']\n",
        "    if co_score > q3['co'] + 1.5 * iqr['co'] or co_score < q1['co'] - 1.5 * iqr['co']:\n",
        "      co_score = None\n",
        "      return co_score\n",
        "    else:\n",
        "      return co_score\n",
        "\n",
        "\"\"\"def is_so2_outlier(data):\n",
        "    so2_score = data['so2']\n",
        "    if so2_score > q3['so2'] + 1.5 * iqr['so2'] or so2_score < q1['so2'] - 1.5 * iqr['so2']:\n",
        "      so2_score = None\n",
        "      return so2_score\n",
        "    else:\n",
        "      return so2_score\"\"\""
      ],
      "metadata": {
        "id": "E_59lkpS9Gj-",
        "colab": {
          "base_uri": "https://localhost:8080/",
          "height": 54
        },
        "outputId": "c7dafc2c-abc2-4db7-9140-4e943892187e"
      },
      "execution_count": null,
      "outputs": [
        {
          "output_type": "execute_result",
          "data": {
            "text/plain": [
              "\"def is_so2_outlier(data):\\n    so2_score = data['so2']\\n    if so2_score > q3['so2'] + 1.5 * iqr['so2'] or so2_score < q1['so2'] - 1.5 * iqr['so2']:\\n      so2_score = None\\n      return so2_score\\n    else:\\n      return so2_score\""
            ],
            "application/vnd.google.colaboratory.intrinsic+json": {
              "type": "string"
            }
          },
          "metadata": {},
          "execution_count": 10
        }
      ]
    },
    {
      "cell_type": "code",
      "source": [
        "data['pm10'] = data.apply(is_pm10_outlier,axis = 1)\n",
        "data['pm2.5'] = data.apply(is_pm25_outlier,axis = 1)\n",
        "#data['o3'] = data.apply(is_o3_outlier,axis = 1)\n",
        "#data['no2'] = data.apply(is_no2_outlier, axis = 1)\n",
        "data['co'] = data.apply(is_co_outlier, axis = 1)\n",
        "#data['so2'] = data.apply(is_so2_outlier, axis = 1)\n",
        "\n",
        "data.head()"
      ],
      "metadata": {
        "colab": {
          "base_uri": "https://localhost:8080/",
          "height": 206
        },
        "id": "yUn1m6N89P89",
        "outputId": "310a63a6-b71a-4c26-bfa7-8b74fbf8eeba"
      },
      "execution_count": null,
      "outputs": [
        {
          "output_type": "execute_result",
          "data": {
            "text/plain": [
              "              dt  pm10  pm2.5   co\n",
              "0  2015-01-03:01  38.0   21.0  0.3\n",
              "1  2015-01-03:02  29.0   21.0  0.3\n",
              "2  2015-01-03:03  35.0   21.0  0.3\n",
              "3  2015-01-03:04  31.0   22.0  0.3\n",
              "4  2015-01-03:05  34.0   26.0  0.5"
            ],
            "text/html": [
              "\n",
              "  <div id=\"df-08bd0f88-9d9d-4a7a-91cb-e290784a5496\">\n",
              "    <div class=\"colab-df-container\">\n",
              "      <div>\n",
              "<style scoped>\n",
              "    .dataframe tbody tr th:only-of-type {\n",
              "        vertical-align: middle;\n",
              "    }\n",
              "\n",
              "    .dataframe tbody tr th {\n",
              "        vertical-align: top;\n",
              "    }\n",
              "\n",
              "    .dataframe thead th {\n",
              "        text-align: right;\n",
              "    }\n",
              "</style>\n",
              "<table border=\"1\" class=\"dataframe\">\n",
              "  <thead>\n",
              "    <tr style=\"text-align: right;\">\n",
              "      <th></th>\n",
              "      <th>dt</th>\n",
              "      <th>pm10</th>\n",
              "      <th>pm2.5</th>\n",
              "      <th>co</th>\n",
              "    </tr>\n",
              "  </thead>\n",
              "  <tbody>\n",
              "    <tr>\n",
              "      <th>0</th>\n",
              "      <td>2015-01-03:01</td>\n",
              "      <td>38.0</td>\n",
              "      <td>21.0</td>\n",
              "      <td>0.3</td>\n",
              "    </tr>\n",
              "    <tr>\n",
              "      <th>1</th>\n",
              "      <td>2015-01-03:02</td>\n",
              "      <td>29.0</td>\n",
              "      <td>21.0</td>\n",
              "      <td>0.3</td>\n",
              "    </tr>\n",
              "    <tr>\n",
              "      <th>2</th>\n",
              "      <td>2015-01-03:03</td>\n",
              "      <td>35.0</td>\n",
              "      <td>21.0</td>\n",
              "      <td>0.3</td>\n",
              "    </tr>\n",
              "    <tr>\n",
              "      <th>3</th>\n",
              "      <td>2015-01-03:04</td>\n",
              "      <td>31.0</td>\n",
              "      <td>22.0</td>\n",
              "      <td>0.3</td>\n",
              "    </tr>\n",
              "    <tr>\n",
              "      <th>4</th>\n",
              "      <td>2015-01-03:05</td>\n",
              "      <td>34.0</td>\n",
              "      <td>26.0</td>\n",
              "      <td>0.5</td>\n",
              "    </tr>\n",
              "  </tbody>\n",
              "</table>\n",
              "</div>\n",
              "      <button class=\"colab-df-convert\" onclick=\"convertToInteractive('df-08bd0f88-9d9d-4a7a-91cb-e290784a5496')\"\n",
              "              title=\"Convert this dataframe to an interactive table.\"\n",
              "              style=\"display:none;\">\n",
              "        \n",
              "  <svg xmlns=\"http://www.w3.org/2000/svg\" height=\"24px\"viewBox=\"0 0 24 24\"\n",
              "       width=\"24px\">\n",
              "    <path d=\"M0 0h24v24H0V0z\" fill=\"none\"/>\n",
              "    <path d=\"M18.56 5.44l.94 2.06.94-2.06 2.06-.94-2.06-.94-.94-2.06-.94 2.06-2.06.94zm-11 1L8.5 8.5l.94-2.06 2.06-.94-2.06-.94L8.5 2.5l-.94 2.06-2.06.94zm10 10l.94 2.06.94-2.06 2.06-.94-2.06-.94-.94-2.06-.94 2.06-2.06.94z\"/><path d=\"M17.41 7.96l-1.37-1.37c-.4-.4-.92-.59-1.43-.59-.52 0-1.04.2-1.43.59L10.3 9.45l-7.72 7.72c-.78.78-.78 2.05 0 2.83L4 21.41c.39.39.9.59 1.41.59.51 0 1.02-.2 1.41-.59l7.78-7.78 2.81-2.81c.8-.78.8-2.07 0-2.86zM5.41 20L4 18.59l7.72-7.72 1.47 1.35L5.41 20z\"/>\n",
              "  </svg>\n",
              "      </button>\n",
              "      \n",
              "  <style>\n",
              "    .colab-df-container {\n",
              "      display:flex;\n",
              "      flex-wrap:wrap;\n",
              "      gap: 12px;\n",
              "    }\n",
              "\n",
              "    .colab-df-convert {\n",
              "      background-color: #E8F0FE;\n",
              "      border: none;\n",
              "      border-radius: 50%;\n",
              "      cursor: pointer;\n",
              "      display: none;\n",
              "      fill: #1967D2;\n",
              "      height: 32px;\n",
              "      padding: 0 0 0 0;\n",
              "      width: 32px;\n",
              "    }\n",
              "\n",
              "    .colab-df-convert:hover {\n",
              "      background-color: #E2EBFA;\n",
              "      box-shadow: 0px 1px 2px rgba(60, 64, 67, 0.3), 0px 1px 3px 1px rgba(60, 64, 67, 0.15);\n",
              "      fill: #174EA6;\n",
              "    }\n",
              "\n",
              "    [theme=dark] .colab-df-convert {\n",
              "      background-color: #3B4455;\n",
              "      fill: #D2E3FC;\n",
              "    }\n",
              "\n",
              "    [theme=dark] .colab-df-convert:hover {\n",
              "      background-color: #434B5C;\n",
              "      box-shadow: 0px 1px 3px 1px rgba(0, 0, 0, 0.15);\n",
              "      filter: drop-shadow(0px 1px 2px rgba(0, 0, 0, 0.3));\n",
              "      fill: #FFFFFF;\n",
              "    }\n",
              "  </style>\n",
              "\n",
              "      <script>\n",
              "        const buttonEl =\n",
              "          document.querySelector('#df-08bd0f88-9d9d-4a7a-91cb-e290784a5496 button.colab-df-convert');\n",
              "        buttonEl.style.display =\n",
              "          google.colab.kernel.accessAllowed ? 'block' : 'none';\n",
              "\n",
              "        async function convertToInteractive(key) {\n",
              "          const element = document.querySelector('#df-08bd0f88-9d9d-4a7a-91cb-e290784a5496');\n",
              "          const dataTable =\n",
              "            await google.colab.kernel.invokeFunction('convertToInteractive',\n",
              "                                                     [key], {});\n",
              "          if (!dataTable) return;\n",
              "\n",
              "          const docLinkHtml = 'Like what you see? Visit the ' +\n",
              "            '<a target=\"_blank\" href=https://colab.research.google.com/notebooks/data_table.ipynb>data table notebook</a>'\n",
              "            + ' to learn more about interactive tables.';\n",
              "          element.innerHTML = '';\n",
              "          dataTable['output_type'] = 'display_data';\n",
              "          await google.colab.output.renderOutput(dataTable, element);\n",
              "          const docLink = document.createElement('div');\n",
              "          docLink.innerHTML = docLinkHtml;\n",
              "          element.appendChild(docLink);\n",
              "        }\n",
              "      </script>\n",
              "    </div>\n",
              "  </div>\n",
              "  "
            ]
          },
          "metadata": {},
          "execution_count": 11
        }
      ]
    },
    {
      "cell_type": "code",
      "source": [
        "data.isnull().sum()"
      ],
      "metadata": {
        "colab": {
          "base_uri": "https://localhost:8080/"
        },
        "id": "CSj2QWW1KaCO",
        "outputId": "f7f2390e-ad08-4df5-ad77-048c3c3e7366"
      },
      "execution_count": null,
      "outputs": [
        {
          "output_type": "execute_result",
          "data": {
            "text/plain": [
              "dt        0\n",
              "pm10     63\n",
              "pm2.5     4\n",
              "co        0\n",
              "dtype: int64"
            ]
          },
          "metadata": {},
          "execution_count": 12
        }
      ]
    },
    {
      "cell_type": "code",
      "source": [
        "data.interpolate( method = 'linear', inplace = True)"
      ],
      "metadata": {
        "id": "hyb0IGxrcn1u"
      },
      "execution_count": null,
      "outputs": []
    },
    {
      "cell_type": "code",
      "source": [
        "data.isnull().sum()"
      ],
      "metadata": {
        "colab": {
          "base_uri": "https://localhost:8080/"
        },
        "id": "Efc0OwQhKbP9",
        "outputId": "e9e14880-3e39-4220-b144-06a3e981a58e"
      },
      "execution_count": null,
      "outputs": [
        {
          "output_type": "execute_result",
          "data": {
            "text/plain": [
              "dt       0\n",
              "pm10     0\n",
              "pm2.5    0\n",
              "co       0\n",
              "dtype: int64"
            ]
          },
          "metadata": {},
          "execution_count": 14
        }
      ]
    },
    {
      "cell_type": "code",
      "source": [
        "data.to_csv('/content/drive/MyDrive/processedData.csv')"
      ],
      "metadata": {
        "id": "_QTdaJnTyytV"
      },
      "execution_count": null,
      "outputs": []
    },
    {
      "cell_type": "code",
      "source": [
        "data.boxplot(column=['pm10'],figsize=(20,10))"
      ],
      "metadata": {
        "colab": {
          "base_uri": "https://localhost:8080/",
          "height": 556
        },
        "id": "q5Blpub2bW8R",
        "outputId": "98255f12-266e-4108-a2e3-789c2e3052da"
      },
      "execution_count": null,
      "outputs": [
        {
          "output_type": "execute_result",
          "data": {
            "text/plain": [
              "<matplotlib.axes._subplots.AxesSubplot at 0x7f92cf820b90>"
            ]
          },
          "metadata": {},
          "execution_count": 16
        },
        {
          "output_type": "display_data",
          "data": {
            "text/plain": [
              "<Figure size 1440x720 with 1 Axes>"
            ],
            "image/png": "[encoded data removed]"
          },
          "metadata": {
            "needs_background": "light"
          }
        }
      ]
    },
    {
      "cell_type": "code",
      "source": [
        "data.info()"
      ],
      "metadata": {
        "colab": {
          "base_uri": "https://localhost:8080/"
        },
        "id": "kSDLow92dlcZ",
        "outputId": "2bde5214-49ee-4b11-efd6-c0a7dd33a3ef"
      },
      "execution_count": null,
      "outputs": [
        {
          "output_type": "stream",
          "name": "stdout",
          "text": [
            "<class 'pandas.core.frame.DataFrame'>\n",
            "RangeIndex: 61320 entries, 0 to 61319\n",
            "Data columns (total 4 columns):\n",
            " #   Column  Non-Null Count  Dtype  \n",
            "---  ------  --------------  -----  \n",
            " 0   dt      61320 non-null  object \n",
            " 1   pm10    61320 non-null  float64\n",
            " 2   pm2.5   61320 non-null  float64\n",
            " 3   co      61320 non-null  float64\n",
            "dtypes: float64(3), object(1)\n",
            "memory usage: 1.9+ MB\n"
          ]
        }
      ]
    },
    {
      "cell_type": "code",
      "execution_count": null,
      "metadata": {
        "colab": {
          "base_uri": "https://localhost:8080/"
        },
        "id": "4Ap-J2SoDbju",
        "outputId": "d3bf3d00-a4f9-45d2-a176-6c165c34155c"
      },
      "outputs": [
        {
          "output_type": "execute_result",
          "data": {
            "text/plain": [
              "0     01\n",
              "1     02\n",
              "2     03\n",
              "3     04\n",
              "4     05\n",
              "5     06\n",
              "6     07\n",
              "7     08\n",
              "8     09\n",
              "9     10\n",
              "10    11\n",
              "11    12\n",
              "12    13\n",
              "13    14\n",
              "14    15\n",
              "15    16\n",
              "16    17\n",
              "17    18\n",
              "18    19\n",
              "19    20\n",
              "20    21\n",
              "21    22\n",
              "22    23\n",
              "23    24\n",
              "Name: hour, dtype: object"
            ]
          },
          "metadata": {},
          "execution_count": 18
        }
      ],
      "source": [
        "#시간별 미세먼지 농도 변화 확인\n",
        "from datetime import datetime\n",
        "\n",
        "data['dt'] = data['dt'].apply(str)\n",
        "data['hour'] = data['dt'].str[11:13]\n",
        "data = data.drop('dt', axis=1)\n",
        "\n",
        "data.hour.head(24)"
      ]
    },
    {
      "cell_type": "code",
      "execution_count": null,
      "metadata": {
        "colab": {
          "base_uri": "https://localhost:8080/",
          "height": 802
        },
        "id": "TYSTCGY9NK_R",
        "outputId": "91e5a993-f154-4e83-ff5e-78cca5ad0a5e"
      },
      "outputs": [
        {
          "output_type": "execute_result",
          "data": {
            "text/plain": [
              "   hour        co       pm10      pm2.5\n",
              "0    01  0.487736  44.479596  24.491146\n",
              "1    02  0.476619  43.556278  25.633682\n",
              "2    03  0.466873  43.275420  24.881202\n",
              "3    04  0.461177  41.231954  23.983581\n",
              "4    05  0.466792  41.468103  23.694670\n",
              "5    06  0.483918  40.446946  23.168047\n",
              "6    07  0.511141  41.762665  23.068300\n",
              "7    08  0.540102  42.156094  22.638775\n",
              "8    09  0.540314  44.843071  22.869720\n",
              "9    10  0.510983  45.083276  22.880221\n",
              "10   11  0.473181  46.312671  23.521394\n",
              "11   12  0.437677  44.919604  23.350512\n",
              "12   13  0.412698  44.927153  23.343809\n",
              "13   14  0.396955  42.951247  22.575743\n",
              "14   15  0.386879  43.420054  22.408329\n",
              "15   16  0.386199  43.220755  22.485446\n",
              "16   17  0.393728  44.416900  22.970084\n",
              "17   18  0.417693  44.129457  23.028962\n",
              "18   19  0.452637  45.396812  23.392491\n",
              "19   20  0.480468  45.433696  23.968072\n",
              "20   21  0.495714  46.017981  24.064348\n",
              "21   22  0.494388  44.753818  23.673601\n",
              "22   23  0.498490  45.006740  23.648919\n",
              "23   24  0.495582  43.991472  23.637420"
            ],
            "text/html": [
              "\n",
              "  <div id=\"df-9a793044-42a0-47ad-9e84-c8b5a40b789f\">\n",
              "    <div class=\"colab-df-container\">\n",
              "      <div>\n",
              "<style scoped>\n",
              "    .dataframe tbody tr th:only-of-type {\n",
              "        vertical-align: middle;\n",
              "    }\n",
              "\n",
              "    .dataframe tbody tr th {\n",
              "        vertical-align: top;\n",
              "    }\n",
              "\n",
              "    .dataframe thead th {\n",
              "        text-align: right;\n",
              "    }\n",
              "</style>\n",
              "<table border=\"1\" class=\"dataframe\">\n",
              "  <thead>\n",
              "    <tr style=\"text-align: right;\">\n",
              "      <th></th>\n",
              "      <th>hour</th>\n",
              "      <th>co</th>\n",
              "      <th>pm10</th>\n",
              "      <th>pm2.5</th>\n",
              "    </tr>\n",
              "  </thead>\n",
              "  <tbody>\n",
              "    <tr>\n",
              "      <th>0</th>\n",
              "      <td>01</td>\n",
              "      <td>0.487736</td>\n",
              "      <td>44.479596</td>\n",
              "      <td>24.491146</td>\n",
              "    </tr>\n",
              "    <tr>\n",
              "      <th>1</th>\n",
              "      <td>02</td>\n",
              "      <td>0.476619</td>\n",
              "      <td>43.556278</td>\n",
              "      <td>25.633682</td>\n",
              "    </tr>\n",
              "    <tr>\n",
              "      <th>2</th>\n",
              "      <td>03</td>\n",
              "      <td>0.466873</td>\n",
              "      <td>43.275420</td>\n",
              "      <td>24.881202</td>\n",
              "    </tr>\n",
              "    <tr>\n",
              "      <th>3</th>\n",
              "      <td>04</td>\n",
              "      <td>0.461177</td>\n",
              "      <td>41.231954</td>\n",
              "      <td>23.983581</td>\n",
              "    </tr>\n",
              "    <tr>\n",
              "      <th>4</th>\n",
              "      <td>05</td>\n",
              "      <td>0.466792</td>\n",
              "      <td>41.468103</td>\n",
              "      <td>23.694670</td>\n",
              "    </tr>\n",
              "    <tr>\n",
              "      <th>5</th>\n",
              "      <td>06</td>\n",
              "      <td>0.483918</td>\n",
              "      <td>40.446946</td>\n",
              "      <td>23.168047</td>\n",
              "    </tr>\n",
              "    <tr>\n",
              "      <th>6</th>\n",
              "      <td>07</td>\n",
              "      <td>0.511141</td>\n",
              "      <td>41.762665</td>\n",
              "      <td>23.068300</td>\n",
              "    </tr>\n",
              "    <tr>\n",
              "      <th>7</th>\n",
              "      <td>08</td>\n",
              "      <td>0.540102</td>\n",
              "      <td>42.156094</td>\n",
              "      <td>22.638775</td>\n",
              "    </tr>\n",
              "    <tr>\n",
              "      <th>8</th>\n",
              "      <td>09</td>\n",
              "      <td>0.540314</td>\n",
              "      <td>44.843071</td>\n",
              "      <td>22.869720</td>\n",
              "    </tr>\n",
              "    <tr>\n",
              "      <th>9</th>\n",
              "      <td>10</td>\n",
              "      <td>0.510983</td>\n",
              "      <td>45.083276</td>\n",
              "      <td>22.880221</td>\n",
              "    </tr>\n",
              "    <tr>\n",
              "      <th>10</th>\n",
              "      <td>11</td>\n",
              "      <td>0.473181</td>\n",
              "      <td>46.312671</td>\n",
              "      <td>23.521394</td>\n",
              "    </tr>\n",
              "    <tr>\n",
              "      <th>11</th>\n",
              "      <td>12</td>\n",
              "      <td>0.437677</td>\n",
              "      <td>44.919604</td>\n",
              "      <td>23.350512</td>\n",
              "    </tr>\n",
              "    <tr>\n",
              "      <th>12</th>\n",
              "      <td>13</td>\n",
              "      <td>0.412698</td>\n",
              "      <td>44.927153</td>\n",
              "      <td>23.343809</td>\n",
              "    </tr>\n",
              "    <tr>\n",
              "      <th>13</th>\n",
              "      <td>14</td>\n",
              "      <td>0.396955</td>\n",
              "      <td>42.951247</td>\n",
              "      <td>22.575743</td>\n",
              "    </tr>\n",
              "    <tr>\n",
              "      <th>14</th>\n",
              "      <td>15</td>\n",
              "      <td>0.386879</td>\n",
              "      <td>43.420054</td>\n",
              "      <td>22.408329</td>\n",
              "    </tr>\n",
              "    <tr>\n",
              "      <th>15</th>\n",
              "      <td>16</td>\n",
              "      <td>0.386199</td>\n",
              "      <td>43.220755</td>\n",
              "      <td>22.485446</td>\n",
              "    </tr>\n",
              "    <tr>\n",
              "      <th>16</th>\n",
              "      <td>17</td>\n",
              "      <td>0.393728</td>\n",
              "      <td>44.416900</td>\n",
              "      <td>22.970084</td>\n",
              "    </tr>\n",
              "    <tr>\n",
              "      <th>17</th>\n",
              "      <td>18</td>\n",
              "      <td>0.417693</td>\n",
              "      <td>44.129457</td>\n",
              "      <td>23.028962</td>\n",
              "    </tr>\n",
              "    <tr>\n",
              "      <th>18</th>\n",
              "      <td>19</td>\n",
              "      <td>0.452637</td>\n",
              "      <td>45.396812</td>\n",
              "      <td>23.392491</td>\n",
              "    </tr>\n",
              "    <tr>\n",
              "      <th>19</th>\n",
              "      <td>20</td>\n",
              "      <td>0.480468</td>\n",
              "      <td>45.433696</td>\n",
              "      <td>23.968072</td>\n",
              "    </tr>\n",
              "    <tr>\n",
              "      <th>20</th>\n",
              "      <td>21</td>\n",
              "      <td>0.495714</td>\n",
              "      <td>46.017981</td>\n",
              "      <td>24.064348</td>\n",
              "    </tr>\n",
              "    <tr>\n",
              "      <th>21</th>\n",
              "      <td>22</td>\n",
              "      <td>0.494388</td>\n",
              "      <td>44.753818</td>\n",
              "      <td>23.673601</td>\n",
              "    </tr>\n",
              "    <tr>\n",
              "      <th>22</th>\n",
              "      <td>23</td>\n",
              "      <td>0.498490</td>\n",
              "      <td>45.006740</td>\n",
              "      <td>23.648919</td>\n",
              "    </tr>\n",
              "    <tr>\n",
              "      <th>23</th>\n",
              "      <td>24</td>\n",
              "      <td>0.495582</td>\n",
              "      <td>43.991472</td>\n",
              "      <td>23.637420</td>\n",
              "    </tr>\n",
              "  </tbody>\n",
              "</table>\n",
              "</div>\n",
              "      <button class=\"colab-df-convert\" onclick=\"convertToInteractive('df-9a793044-42a0-47ad-9e84-c8b5a40b789f')\"\n",
              "              title=\"Convert this dataframe to an interactive table.\"\n",
              "              style=\"display:none;\">\n",
              "        \n",
              "  <svg xmlns=\"http://www.w3.org/2000/svg\" height=\"24px\"viewBox=\"0 0 24 24\"\n",
              "       width=\"24px\">\n",
              "    <path d=\"M0 0h24v24H0V0z\" fill=\"none\"/>\n",
              "    <path d=\"M18.56 5.44l.94 2.06.94-2.06 2.06-.94-2.06-.94-.94-2.06-.94 2.06-2.06.94zm-11 1L8.5 8.5l.94-2.06 2.06-.94-2.06-.94L8.5 2.5l-.94 2.06-2.06.94zm10 10l.94 2.06.94-2.06 2.06-.94-2.06-.94-.94-2.06-.94 2.06-2.06.94z\"/><path d=\"M17.41 7.96l-1.37-1.37c-.4-.4-.92-.59-1.43-.59-.52 0-1.04.2-1.43.59L10.3 9.45l-7.72 7.72c-.78.78-.78 2.05 0 2.83L4 21.41c.39.39.9.59 1.41.59.51 0 1.02-.2 1.41-.59l7.78-7.78 2.81-2.81c.8-.78.8-2.07 0-2.86zM5.41 20L4 18.59l7.72-7.72 1.47 1.35L5.41 20z\"/>\n",
              "  </svg>\n",
              "      </button>\n",
              "      \n",
              "  <style>\n",
              "    .colab-df-container {\n",
              "      display:flex;\n",
              "      flex-wrap:wrap;\n",
              "      gap: 12px;\n",
              "    }\n",
              "\n",
              "    .colab-df-convert {\n",
              "      background-color: #E8F0FE;\n",
              "      border: none;\n",
              "      border-radius: 50%;\n",
              "      cursor: pointer;\n",
              "      display: none;\n",
              "      fill: #1967D2;\n",
              "      height: 32px;\n",
              "      padding: 0 0 0 0;\n",
              "      width: 32px;\n",
              "    }\n",
              "\n",
              "    .colab-df-convert:hover {\n",
              "      background-color: #E2EBFA;\n",
              "      box-shadow: 0px 1px 2px rgba(60, 64, 67, 0.3), 0px 1px 3px 1px rgba(60, 64, 67, 0.15);\n",
              "      fill: #174EA6;\n",
              "    }\n",
              "\n",
              "    [theme=dark] .colab-df-convert {\n",
              "      background-color: #3B4455;\n",
              "      fill: #D2E3FC;\n",
              "    }\n",
              "\n",
              "    [theme=dark] .colab-df-convert:hover {\n",
              "      background-color: #434B5C;\n",
              "      box-shadow: 0px 1px 3px 1px rgba(0, 0, 0, 0.15);\n",
              "      filter: drop-shadow(0px 1px 2px rgba(0, 0, 0, 0.3));\n",
              "      fill: #FFFFFF;\n",
              "    }\n",
              "  </style>\n",
              "\n",
              "      <script>\n",
              "        const buttonEl =\n",
              "          document.querySelector('#df-9a793044-42a0-47ad-9e84-c8b5a40b789f button.colab-df-convert');\n",
              "        buttonEl.style.display =\n",
              "          google.colab.kernel.accessAllowed ? 'block' : 'none';\n",
              "\n",
              "        async function convertToInteractive(key) {\n",
              "          const element = document.querySelector('#df-9a793044-42a0-47ad-9e84-c8b5a40b789f');\n",
              "          const dataTable =\n",
              "            await google.colab.kernel.invokeFunction('convertToInteractive',\n",
              "                                                     [key], {});\n",
              "          if (!dataTable) return;\n",
              "\n",
              "          const docLinkHtml = 'Like what you see? Visit the ' +\n",
              "            '<a target=\"_blank\" href=https://colab.research.google.com/notebooks/data_table.ipynb>data table notebook</a>'\n",
              "            + ' to learn more about interactive tables.';\n",
              "          element.innerHTML = '';\n",
              "          dataTable['output_type'] = 'display_data';\n",
              "          await google.colab.output.renderOutput(dataTable, element);\n",
              "          const docLink = document.createElement('div');\n",
              "          docLink.innerHTML = docLinkHtml;\n",
              "          element.appendChild(docLink);\n",
              "        }\n",
              "      </script>\n",
              "    </div>\n",
              "  </div>\n",
              "  "
            ]
          },
          "metadata": {},
          "execution_count": 19
        }
      ],
      "source": [
        "hour_data = data.groupby('hour', as_index=False).agg({'co':'mean', 'pm10':'mean', 'pm2.5':'mean'})\n",
        "hour_data"
      ]
    },
    {
      "cell_type": "code",
      "source": [
        "# 미세먼지 농도변화 Hour\n",
        "plt.figure(figsize=(20,15))\n",
        "hour_data.plot(x='hour', y=['pm10', 'pm2.5'])\n",
        "plt.show()"
      ],
      "metadata": {
        "colab": {
          "base_uri": "https://localhost:8080/",
          "height": 297
        },
        "id": "tvbWj1gGo9Me",
        "outputId": "185c5cc0-1987-4ae6-de02-67d9d31859aa"
      },
      "execution_count": null,
      "outputs": [
        {
          "output_type": "display_data",
          "data": {
            "text/plain": [
              "<Figure size 1440x1080 with 0 Axes>"
            ]
          },
          "metadata": {}
        },
        {
          "output_type": "display_data",
          "data": {
            "text/plain": [
              "<Figure size 432x288 with 1 Axes>"
            ],
            "image/png": "[encoded data removed]"
          },
          "metadata": {
            "needs_background": "light"
          }
        }
      ]
    },
    {
      "cell_type": "code",
      "source": [
        "Y = data[[\"pm10\"]]\n",
        "# 전체 열 이름 입력하기\n",
        "Y.columns = ['PM10']"
      ],
      "metadata": {
        "id": "wBn4CeJhwJqy"
      },
      "execution_count": null,
      "outputs": []
    },
    {
      "cell_type": "code",
      "source": [
        "pm10_mean = data[[\"pm10\"]].mean()\n",
        "pm10_std = data[[\"pm10\"]].std()\n",
        "pm25_mean = data[[\"pm2.5\"]].mean()\n",
        "pm25_std = data[[\"pm2.5\"]].std()\n",
        "co_mean = data[[\"co\"]].mean()\n",
        "co_std = data[[\"co\"]].std()"
      ],
      "metadata": {
        "id": "G1BPrBIhjwBk"
      },
      "execution_count": null,
      "outputs": []
    },
    {
      "cell_type": "code",
      "source": [
        "pm10_mean"
      ],
      "metadata": {
        "colab": {
          "base_uri": "https://localhost:8080/"
        },
        "id": "V6pkVBS6j3B7",
        "outputId": "1aa5455a-50f8-40e3-9c86-62de498c6324"
      },
      "execution_count": null,
      "outputs": [
        {
          "output_type": "execute_result",
          "data": {
            "text/plain": [
              "pm10    43.883407\n",
              "dtype: float64"
            ]
          },
          "metadata": {},
          "execution_count": 59
        }
      ]
    },
    {
      "cell_type": "code",
      "source": [
        "pm10_std"
      ],
      "metadata": {
        "colab": {
          "base_uri": "https://localhost:8080/"
        },
        "id": "InwCPvVtkQLa",
        "outputId": "cdb12d96-9de9-4607-aa15-2599e86d311e"
      },
      "execution_count": null,
      "outputs": [
        {
          "output_type": "execute_result",
          "data": {
            "text/plain": [
              "pm10    30.883249\n",
              "dtype: float64"
            ]
          },
          "metadata": {},
          "execution_count": 24
        }
      ]
    },
    {
      "cell_type": "code",
      "source": [
        "pm25_mean"
      ],
      "metadata": {
        "colab": {
          "base_uri": "https://localhost:8080/"
        },
        "id": "krn_HU2kkQCy",
        "outputId": "c364ad41-aa06-4e08-e5b8-225b59294017"
      },
      "execution_count": null,
      "outputs": [
        {
          "output_type": "execute_result",
          "data": {
            "text/plain": [
              "pm2.5    23.474103\n",
              "dtype: float64"
            ]
          },
          "metadata": {},
          "execution_count": 25
        }
      ]
    },
    {
      "cell_type": "code",
      "source": [
        "pm25_std"
      ],
      "metadata": {
        "colab": {
          "base_uri": "https://localhost:8080/"
        },
        "id": "Gkmp8SqqkP7C",
        "outputId": "6dce99d5-455b-495c-c7f2-0462b31776bb"
      },
      "execution_count": null,
      "outputs": [
        {
          "output_type": "execute_result",
          "data": {
            "text/plain": [
              "pm2.5    16.988391\n",
              "dtype: float64"
            ]
          },
          "metadata": {},
          "execution_count": 26
        }
      ]
    },
    {
      "cell_type": "code",
      "source": [
        "co_mean"
      ],
      "metadata": {
        "colab": {
          "base_uri": "https://localhost:8080/"
        },
        "id": "bM3y04FekPpK",
        "outputId": "9358c14c-cfab-4e8b-d6fc-655ad4e0a5c9"
      },
      "execution_count": null,
      "outputs": [
        {
          "output_type": "execute_result",
          "data": {
            "text/plain": [
              "co    0.465331\n",
              "dtype: float64"
            ]
          },
          "metadata": {},
          "execution_count": 27
        }
      ]
    },
    {
      "cell_type": "code",
      "source": [
        "co_std"
      ],
      "metadata": {
        "colab": {
          "base_uri": "https://localhost:8080/"
        },
        "id": "VqwkDWzGkPcT",
        "outputId": "687e48aa-d788-49e7-866c-e33b140289b0"
      },
      "execution_count": null,
      "outputs": [
        {
          "output_type": "execute_result",
          "data": {
            "text/plain": [
              "co    0.235374\n",
              "dtype: float64"
            ]
          },
          "metadata": {},
          "execution_count": 28
        }
      ]
    },
    {
      "cell_type": "code",
      "source": [
        "\"\"\"minmax_scaler = MinMaxScaler()\n",
        "minmax_scaled_data = minmax_scaler.fit_transform(data)\n",
        "data = pd.DataFrame(minmax_scaled_data)\"\"\""
      ],
      "metadata": {
        "id": "O-pJdmn2klQn",
        "colab": {
          "base_uri": "https://localhost:8080/",
          "height": 35
        },
        "outputId": "5306c7cf-1abc-4b02-d66f-e1859e11d48c"
      },
      "execution_count": null,
      "outputs": [
        {
          "output_type": "execute_result",
          "data": {
            "text/plain": [
              "'minmax_scaler = MinMaxScaler()\\nminmax_scaled_data = minmax_scaler.fit_transform(data)\\ndata = pd.DataFrame(minmax_scaled_data)'"
            ],
            "application/vnd.google.colaboratory.intrinsic+json": {
              "type": "string"
            }
          },
          "metadata": {},
          "execution_count": 77
        }
      ]
    },
    {
      "cell_type": "code",
      "source": [
        "from sklearn.preprocessing import StandardScaler\n",
        "from pickle import dump\n",
        "#st_scaler = StandardScaler()\n",
        "#st_scaler.fit(data)\n",
        "#Z_normalization = st_scaler.transform(data)\n",
        "data = pd.DataFrame(Z_normalization)\n",
        "dump(st_scaler, open('/st_scaler.pkl', 'wb'))\n",
        "\n",
        "print(data)"
      ],
      "metadata": {
        "id": "A6pFd0_v6ke9",
        "colab": {
          "base_uri": "https://localhost:8080/"
        },
        "outputId": "6d71f3fe-249c-43f3-e237-eca04a3e5080"
      },
      "execution_count": null,
      "outputs": [
        {
          "output_type": "stream",
          "name": "stdout",
          "text": [
            "              0         1         2         3\n",
            "0     -0.190506 -0.145636 -0.702424 -1.661325\n",
            "1     -0.481929 -0.145636 -0.702424 -1.516862\n",
            "2     -0.287647 -0.145636 -0.702424 -1.372399\n",
            "3     -0.417168 -0.086772 -0.702424 -1.227936\n",
            "4     -0.320027  0.148685  0.147294 -1.083473\n",
            "...         ...       ...       ...       ...\n",
            "61315 -0.449549 -0.793142 -0.277565  1.083473\n",
            "61316 -0.417168 -0.734278 -0.277565  1.227936\n",
            "61317 -0.579070 -0.852007  0.147294  1.372399\n",
            "61318 -0.514309 -0.852007 -0.277565  1.516862\n",
            "61319 -0.708591 -0.969735 -0.277565  1.661325\n",
            "\n",
            "[61320 rows x 4 columns]\n"
          ]
        }
      ]
    },
    {
      "cell_type": "code",
      "source": [
        "data.columns = [\"pm10\",\"pm2.5\",\"co\",\"hour\"]\n",
        "data"
      ],
      "metadata": {
        "colab": {
          "base_uri": "https://localhost:8080/",
          "height": 423
        },
        "id": "CoB-vh-nkt4-",
        "outputId": "ae6324b7-f8a9-45b8-eecf-c0fd160ceda0"
      },
      "execution_count": null,
      "outputs": [
        {
          "output_type": "execute_result",
          "data": {
            "text/plain": [
              "           pm10     pm2.5        co      hour\n",
              "0     -0.190506 -0.145636 -0.702424 -1.661325\n",
              "1     -0.481929 -0.145636 -0.702424 -1.516862\n",
              "2     -0.287647 -0.145636 -0.702424 -1.372399\n",
              "3     -0.417168 -0.086772 -0.702424 -1.227936\n",
              "4     -0.320027  0.148685  0.147294 -1.083473\n",
              "...         ...       ...       ...       ...\n",
              "61315 -0.449549 -0.793142 -0.277565  1.083473\n",
              "61316 -0.417168 -0.734278 -0.277565  1.227936\n",
              "61317 -0.579070 -0.852007  0.147294  1.372399\n",
              "61318 -0.514309 -0.852007 -0.277565  1.516862\n",
              "61319 -0.708591 -0.969735 -0.277565  1.661325\n",
              "\n",
              "[61320 rows x 4 columns]"
            ],
            "text/html": [
              "\n",
              "  <div id=\"df-9d241724-a687-42d6-9e76-c253666422b8\">\n",
              "    <div class=\"colab-df-container\">\n",
              "      <div>\n",
              "<style scoped>\n",
              "    .dataframe tbody tr th:only-of-type {\n",
              "        vertical-align: middle;\n",
              "    }\n",
              "\n",
              "    .dataframe tbody tr th {\n",
              "        vertical-align: top;\n",
              "    }\n",
              "\n",
              "    .dataframe thead th {\n",
              "        text-align: right;\n",
              "    }\n",
              "</style>\n",
              "<table border=\"1\" class=\"dataframe\">\n",
              "  <thead>\n",
              "    <tr style=\"text-align: right;\">\n",
              "      <th></th>\n",
              "      <th>pm10</th>\n",
              "      <th>pm2.5</th>\n",
              "      <th>co</th>\n",
              "      <th>hour</th>\n",
              "    </tr>\n",
              "  </thead>\n",
              "  <tbody>\n",
              "    <tr>\n",
              "      <th>0</th>\n",
              "      <td>-0.190506</td>\n",
              "      <td>-0.145636</td>\n",
              "      <td>-0.702424</td>\n",
              "      <td>-1.661325</td>\n",
              "    </tr>\n",
              "    <tr>\n",
              "      <th>1</th>\n",
              "      <td>-0.481929</td>\n",
              "      <td>-0.145636</td>\n",
              "      <td>-0.702424</td>\n",
              "      <td>-1.516862</td>\n",
              "    </tr>\n",
              "    <tr>\n",
              "      <th>2</th>\n",
              "      <td>-0.287647</td>\n",
              "      <td>-0.145636</td>\n",
              "      <td>-0.702424</td>\n",
              "      <td>-1.372399</td>\n",
              "    </tr>\n",
              "    <tr>\n",
              "      <th>3</th>\n",
              "      <td>-0.417168</td>\n",
              "      <td>-0.086772</td>\n",
              "      <td>-0.702424</td>\n",
              "      <td>-1.227936</td>\n",
              "    </tr>\n",
              "    <tr>\n",
              "      <th>4</th>\n",
              "      <td>-0.320027</td>\n",
              "      <td>0.148685</td>\n",
              "      <td>0.147294</td>\n",
              "      <td>-1.083473</td>\n",
              "    </tr>\n",
              "    <tr>\n",
              "      <th>...</th>\n",
              "      <td>...</td>\n",
              "      <td>...</td>\n",
              "      <td>...</td>\n",
              "      <td>...</td>\n",
              "    </tr>\n",
              "    <tr>\n",
              "      <th>61315</th>\n",
              "      <td>-0.449549</td>\n",
              "      <td>-0.793142</td>\n",
              "      <td>-0.277565</td>\n",
              "      <td>1.083473</td>\n",
              "    </tr>\n",
              "    <tr>\n",
              "      <th>61316</th>\n",
              "      <td>-0.417168</td>\n",
              "      <td>-0.734278</td>\n",
              "      <td>-0.277565</td>\n",
              "      <td>1.227936</td>\n",
              "    </tr>\n",
              "    <tr>\n",
              "      <th>61317</th>\n",
              "      <td>-0.579070</td>\n",
              "      <td>-0.852007</td>\n",
              "      <td>0.147294</td>\n",
              "      <td>1.372399</td>\n",
              "    </tr>\n",
              "    <tr>\n",
              "      <th>61318</th>\n",
              "      <td>-0.514309</td>\n",
              "      <td>-0.852007</td>\n",
              "      <td>-0.277565</td>\n",
              "      <td>1.516862</td>\n",
              "    </tr>\n",
              "    <tr>\n",
              "      <th>61319</th>\n",
              "      <td>-0.708591</td>\n",
              "      <td>-0.969735</td>\n",
              "      <td>-0.277565</td>\n",
              "      <td>1.661325</td>\n",
              "    </tr>\n",
              "  </tbody>\n",
              "</table>\n",
              "<p>61320 rows × 4 columns</p>\n",
              "</div>\n",
              "      <button class=\"colab-df-convert\" onclick=\"convertToInteractive('df-9d241724-a687-42d6-9e76-c253666422b8')\"\n",
              "              title=\"Convert this dataframe to an interactive table.\"\n",
              "              style=\"display:none;\">\n",
              "        \n",
              "  <svg xmlns=\"http://www.w3.org/2000/svg\" height=\"24px\"viewBox=\"0 0 24 24\"\n",
              "       width=\"24px\">\n",
              "    <path d=\"M0 0h24v24H0V0z\" fill=\"none\"/>\n",
              "    <path d=\"M18.56 5.44l.94 2.06.94-2.06 2.06-.94-2.06-.94-.94-2.06-.94 2.06-2.06.94zm-11 1L8.5 8.5l.94-2.06 2.06-.94-2.06-.94L8.5 2.5l-.94 2.06-2.06.94zm10 10l.94 2.06.94-2.06 2.06-.94-2.06-.94-.94-2.06-.94 2.06-2.06.94z\"/><path d=\"M17.41 7.96l-1.37-1.37c-.4-.4-.92-.59-1.43-.59-.52 0-1.04.2-1.43.59L10.3 9.45l-7.72 7.72c-.78.78-.78 2.05 0 2.83L4 21.41c.39.39.9.59 1.41.59.51 0 1.02-.2 1.41-.59l7.78-7.78 2.81-2.81c.8-.78.8-2.07 0-2.86zM5.41 20L4 18.59l7.72-7.72 1.47 1.35L5.41 20z\"/>\n",
              "  </svg>\n",
              "      </button>\n",
              "      \n",
              "  <style>\n",
              "    .colab-df-container {\n",
              "      display:flex;\n",
              "      flex-wrap:wrap;\n",
              "      gap: 12px;\n",
              "    }\n",
              "\n",
              "    .colab-df-convert {\n",
              "      background-color: #E8F0FE;\n",
              "      border: none;\n",
              "      border-radius: 50%;\n",
              "      cursor: pointer;\n",
              "      display: none;\n",
              "      fill: #1967D2;\n",
              "      height: 32px;\n",
              "      padding: 0 0 0 0;\n",
              "      width: 32px;\n",
              "    }\n",
              "\n",
              "    .colab-df-convert:hover {\n",
              "      background-color: #E2EBFA;\n",
              "      box-shadow: 0px 1px 2px rgba(60, 64, 67, 0.3), 0px 1px 3px 1px rgba(60, 64, 67, 0.15);\n",
              "      fill: #174EA6;\n",
              "    }\n",
              "\n",
              "    [theme=dark] .colab-df-convert {\n",
              "      background-color: #3B4455;\n",
              "      fill: #D2E3FC;\n",
              "    }\n",
              "\n",
              "    [theme=dark] .colab-df-convert:hover {\n",
              "      background-color: #434B5C;\n",
              "      box-shadow: 0px 1px 3px 1px rgba(0, 0, 0, 0.15);\n",
              "      filter: drop-shadow(0px 1px 2px rgba(0, 0, 0, 0.3));\n",
              "      fill: #FFFFFF;\n",
              "    }\n",
              "  </style>\n",
              "\n",
              "      <script>\n",
              "        const buttonEl =\n",
              "          document.querySelector('#df-9d241724-a687-42d6-9e76-c253666422b8 button.colab-df-convert');\n",
              "        buttonEl.style.display =\n",
              "          google.colab.kernel.accessAllowed ? 'block' : 'none';\n",
              "\n",
              "        async function convertToInteractive(key) {\n",
              "          const element = document.querySelector('#df-9d241724-a687-42d6-9e76-c253666422b8');\n",
              "          const dataTable =\n",
              "            await google.colab.kernel.invokeFunction('convertToInteractive',\n",
              "                                                     [key], {});\n",
              "          if (!dataTable) return;\n",
              "\n",
              "          const docLinkHtml = 'Like what you see? Visit the ' +\n",
              "            '<a target=\"_blank\" href=https://colab.research.google.com/notebooks/data_table.ipynb>data table notebook</a>'\n",
              "            + ' to learn more about interactive tables.';\n",
              "          element.innerHTML = '';\n",
              "          dataTable['output_type'] = 'display_data';\n",
              "          await google.colab.output.renderOutput(dataTable, element);\n",
              "          const docLink = document.createElement('div');\n",
              "          docLink.innerHTML = docLinkHtml;\n",
              "          element.appendChild(docLink);\n",
              "        }\n",
              "      </script>\n",
              "    </div>\n",
              "  </div>\n",
              "  "
            ]
          },
          "metadata": {},
          "execution_count": 30
        }
      ]
    },
    {
      "cell_type": "code",
      "source": [
        "# 데이터 시각화\n",
        "plt.figure(figsize=(15, 10))\n",
        "\n",
        "for i in range(0, 3):\n",
        "    y = data.iloc[:, i]\n",
        "    plt.subplot(5, 2, i+1)\n",
        "    plt.title(y.name)\n",
        "    plt.xlabel('day')\n",
        "    plt.ylabel('density')\n",
        "    plt.plot(y[:100])\n",
        "    \n",
        "# O3, !NO2 와 관계가 있음!"
      ],
      "metadata": {
        "colab": {
          "base_uri": "https://localhost:8080/",
          "height": 284
        },
        "id": "khdoiQuJp_ra",
        "outputId": "88d9183c-e001-43b7-a105-166f773dbe18"
      },
      "execution_count": null,
      "outputs": [
        {
          "output_type": "display_data",
          "data": {
            "text/plain": [
              "<Figure size 1080x720 with 3 Axes>"
            ],
            "image/png": "[encoded data removed]"
          },
          "metadata": {
            "needs_background": "light"
          }
        }
      ]
    },
    {
      "cell_type": "code",
      "source": [
        "corr_matrix = data.corr()\n",
        "# 타겟값을 기준으로 관계가 높은 다른 특성들을 정렬해서 역순으로 나열해봅시다.\n",
        "corr_matrix[\"pm10\"].sort_values(ascending=False)"
      ],
      "metadata": {
        "colab": {
          "base_uri": "https://localhost:8080/"
        },
        "id": "5v0DsOWXzRI7",
        "outputId": "c0b553b1-c4d4-43cf-f8f7-afd8841fbe6c"
      },
      "execution_count": null,
      "outputs": [
        {
          "output_type": "execute_result",
          "data": {
            "text/plain": [
              "pm10     1.000000\n",
              "pm2.5    0.824153\n",
              "co       0.484748\n",
              "hour     0.026230\n",
              "Name: pm10, dtype: float64"
            ]
          },
          "metadata": {},
          "execution_count": 32
        }
      ]
    },
    {
      "cell_type": "code",
      "execution_count": null,
      "metadata": {
        "id": "qr1gTNE8UbZM"
      },
      "outputs": [],
      "source": [
        "x = data[[\"pm10\",\"pm2.5\",\"co\"]]\n",
        "#data = pd.concat([x,Y], axis=1)\n",
        "#print(data)\n",
        "\n",
        "\n",
        "#x_train, x_test, y_train, y_test = train_test_split(x,y, train_size = 0.7, test_size = 0.3, shuffle = False, random_state = 0)"
      ]
    },
    {
      "cell_type": "code",
      "source": [
        "data = pd.concat([x,Y], axis=1)\n",
        "print(data)"
      ],
      "metadata": {
        "colab": {
          "base_uri": "https://localhost:8080/"
        },
        "id": "0bjYsKVr6AeY",
        "outputId": "f5861079-03c5-41e0-f1c4-51561364dde9"
      },
      "execution_count": null,
      "outputs": [
        {
          "output_type": "stream",
          "name": "stdout",
          "text": [
            "           pm10     pm2.5        co  PM10\n",
            "0     -0.190506 -0.145636 -0.702424  38.0\n",
            "1     -0.481929 -0.145636 -0.702424  29.0\n",
            "2     -0.287647 -0.145636 -0.702424  35.0\n",
            "3     -0.417168 -0.086772 -0.702424  31.0\n",
            "4     -0.320027  0.148685  0.147294  34.0\n",
            "...         ...       ...       ...   ...\n",
            "61315 -0.449549 -0.793142 -0.277565  30.0\n",
            "61316 -0.417168 -0.734278 -0.277565  31.0\n",
            "61317 -0.579070 -0.852007  0.147294  26.0\n",
            "61318 -0.514309 -0.852007 -0.277565  28.0\n",
            "61319 -0.708591 -0.969735 -0.277565  22.0\n",
            "\n",
            "[61320 rows x 4 columns]\n"
          ]
        }
      ]
    },
    {
      "cell_type": "code",
      "source": [
        "prec_data = x[:24]\n",
        "prec_data"
      ],
      "metadata": {
        "colab": {
          "base_uri": "https://localhost:8080/",
          "height": 802
        },
        "id": "bK36dXNKgJWu",
        "outputId": "7b5613d6-0827-43d6-e803-fbccc4a483ae"
      },
      "execution_count": null,
      "outputs": [
        {
          "output_type": "execute_result",
          "data": {
            "text/plain": [
              "        pm10     pm2.5        co\n",
              "0  -0.190506 -0.145636 -0.702424\n",
              "1  -0.481929 -0.145636 -0.702424\n",
              "2  -0.287647 -0.145636 -0.702424\n",
              "3  -0.417168 -0.086772 -0.702424\n",
              "4  -0.320027  0.148685  0.147294\n",
              "5   0.003775  0.089821  0.147294\n",
              "6  -0.417168  0.089821  0.997013\n",
              "7  -0.158126  0.089821  0.997013\n",
              "8  -0.514309  0.148685  0.997013\n",
              "9  -0.093366 -0.027908  0.572154\n",
              "10 -0.028605  0.030957  0.572154\n",
              "11 -0.222887  0.030957  0.572154\n",
              "12  0.003775  0.089821  0.572154\n",
              "13 -0.190506  0.148685  0.147294\n",
              "14 -0.320027  0.030957 -0.277565\n",
              "15 -0.384788 -0.204500 -0.277565\n",
              "16 -0.320027 -0.381093 -0.277565\n",
              "17 -0.417168 -0.322229 -0.277565\n",
              "18 -0.676211 -0.086772 -0.277565\n",
              "19 -0.384788  0.148685  0.147294\n",
              "20 -0.222887  0.030957 -0.277565\n",
              "21 -0.190506 -0.263365 -0.277565\n",
              "22 -0.417168 -0.263365 -0.277565\n",
              "23 -0.384788 -0.322229 -0.277565"
            ],
            "text/html": [
              "\n",
              "  <div id=\"df-86c43df3-987d-4d88-b1fc-750bf416baf3\">\n",
              "    <div class=\"colab-df-container\">\n",
              "      <div>\n",
              "<style scoped>\n",
              "    .dataframe tbody tr th:only-of-type {\n",
              "        vertical-align: middle;\n",
              "    }\n",
              "\n",
              "    .dataframe tbody tr th {\n",
              "        vertical-align: top;\n",
              "    }\n",
              "\n",
              "    .dataframe thead th {\n",
              "        text-align: right;\n",
              "    }\n",
              "</style>\n",
              "<table border=\"1\" class=\"dataframe\">\n",
              "  <thead>\n",
              "    <tr style=\"text-align: right;\">\n",
              "      <th></th>\n",
              "      <th>pm10</th>\n",
              "      <th>pm2.5</th>\n",
              "      <th>co</th>\n",
              "    </tr>\n",
              "  </thead>\n",
              "  <tbody>\n",
              "    <tr>\n",
              "      <th>0</th>\n",
              "      <td>-0.190506</td>\n",
              "      <td>-0.145636</td>\n",
              "      <td>-0.702424</td>\n",
              "    </tr>\n",
              "    <tr>\n",
              "      <th>1</th>\n",
              "      <td>-0.481929</td>\n",
              "      <td>-0.145636</td>\n",
              "      <td>-0.702424</td>\n",
              "    </tr>\n",
              "    <tr>\n",
              "      <th>2</th>\n",
              "      <td>-0.287647</td>\n",
              "      <td>-0.145636</td>\n",
              "      <td>-0.702424</td>\n",
              "    </tr>\n",
              "    <tr>\n",
              "      <th>3</th>\n",
              "      <td>-0.417168</td>\n",
              "      <td>-0.086772</td>\n",
              "      <td>-0.702424</td>\n",
              "    </tr>\n",
              "    <tr>\n",
              "      <th>4</th>\n",
              "      <td>-0.320027</td>\n",
              "      <td>0.148685</td>\n",
              "      <td>0.147294</td>\n",
              "    </tr>\n",
              "    <tr>\n",
              "      <th>5</th>\n",
              "      <td>0.003775</td>\n",
              "      <td>0.089821</td>\n",
              "      <td>0.147294</td>\n",
              "    </tr>\n",
              "    <tr>\n",
              "      <th>6</th>\n",
              "      <td>-0.417168</td>\n",
              "      <td>0.089821</td>\n",
              "      <td>0.997013</td>\n",
              "    </tr>\n",
              "    <tr>\n",
              "      <th>7</th>\n",
              "      <td>-0.158126</td>\n",
              "      <td>0.089821</td>\n",
              "      <td>0.997013</td>\n",
              "    </tr>\n",
              "    <tr>\n",
              "      <th>8</th>\n",
              "      <td>-0.514309</td>\n",
              "      <td>0.148685</td>\n",
              "      <td>0.997013</td>\n",
              "    </tr>\n",
              "    <tr>\n",
              "      <th>9</th>\n",
              "      <td>-0.093366</td>\n",
              "      <td>-0.027908</td>\n",
              "      <td>0.572154</td>\n",
              "    </tr>\n",
              "    <tr>\n",
              "      <th>10</th>\n",
              "      <td>-0.028605</td>\n",
              "      <td>0.030957</td>\n",
              "      <td>0.572154</td>\n",
              "    </tr>\n",
              "    <tr>\n",
              "      <th>11</th>\n",
              "      <td>-0.222887</td>\n",
              "      <td>0.030957</td>\n",
              "      <td>0.572154</td>\n",
              "    </tr>\n",
              "    <tr>\n",
              "      <th>12</th>\n",
              "      <td>0.003775</td>\n",
              "      <td>0.089821</td>\n",
              "      <td>0.572154</td>\n",
              "    </tr>\n",
              "    <tr>\n",
              "      <th>13</th>\n",
              "      <td>-0.190506</td>\n",
              "      <td>0.148685</td>\n",
              "      <td>0.147294</td>\n",
              "    </tr>\n",
              "    <tr>\n",
              "      <th>14</th>\n",
              "      <td>-0.320027</td>\n",
              "      <td>0.030957</td>\n",
              "      <td>-0.277565</td>\n",
              "    </tr>\n",
              "    <tr>\n",
              "      <th>15</th>\n",
              "      <td>-0.384788</td>\n",
              "      <td>-0.204500</td>\n",
              "      <td>-0.277565</td>\n",
              "    </tr>\n",
              "    <tr>\n",
              "      <th>16</th>\n",
              "      <td>-0.320027</td>\n",
              "      <td>-0.381093</td>\n",
              "      <td>-0.277565</td>\n",
              "    </tr>\n",
              "    <tr>\n",
              "      <th>17</th>\n",
              "      <td>-0.417168</td>\n",
              "      <td>-0.322229</td>\n",
              "      <td>-0.277565</td>\n",
              "    </tr>\n",
              "    <tr>\n",
              "      <th>18</th>\n",
              "      <td>-0.676211</td>\n",
              "      <td>-0.086772</td>\n",
              "      <td>-0.277565</td>\n",
              "    </tr>\n",
              "    <tr>\n",
              "      <th>19</th>\n",
              "      <td>-0.384788</td>\n",
              "      <td>0.148685</td>\n",
              "      <td>0.147294</td>\n",
              "    </tr>\n",
              "    <tr>\n",
              "      <th>20</th>\n",
              "      <td>-0.222887</td>\n",
              "      <td>0.030957</td>\n",
              "      <td>-0.277565</td>\n",
              "    </tr>\n",
              "    <tr>\n",
              "      <th>21</th>\n",
              "      <td>-0.190506</td>\n",
              "      <td>-0.263365</td>\n",
              "      <td>-0.277565</td>\n",
              "    </tr>\n",
              "    <tr>\n",
              "      <th>22</th>\n",
              "      <td>-0.417168</td>\n",
              "      <td>-0.263365</td>\n",
              "      <td>-0.277565</td>\n",
              "    </tr>\n",
              "    <tr>\n",
              "      <th>23</th>\n",
              "      <td>-0.384788</td>\n",
              "      <td>-0.322229</td>\n",
              "      <td>-0.277565</td>\n",
              "    </tr>\n",
              "  </tbody>\n",
              "</table>\n",
              "</div>\n",
              "      <button class=\"colab-df-convert\" onclick=\"convertToInteractive('df-86c43df3-987d-4d88-b1fc-750bf416baf3')\"\n",
              "              title=\"Convert this dataframe to an interactive table.\"\n",
              "              style=\"display:none;\">\n",
              "        \n",
              "  <svg xmlns=\"http://www.w3.org/2000/svg\" height=\"24px\"viewBox=\"0 0 24 24\"\n",
              "       width=\"24px\">\n",
              "    <path d=\"M0 0h24v24H0V0z\" fill=\"none\"/>\n",
              "    <path d=\"M18.56 5.44l.94 2.06.94-2.06 2.06-.94-2.06-.94-.94-2.06-.94 2.06-2.06.94zm-11 1L8.5 8.5l.94-2.06 2.06-.94-2.06-.94L8.5 2.5l-.94 2.06-2.06.94zm10 10l.94 2.06.94-2.06 2.06-.94-2.06-.94-.94-2.06-.94 2.06-2.06.94z\"/><path d=\"M17.41 7.96l-1.37-1.37c-.4-.4-.92-.59-1.43-.59-.52 0-1.04.2-1.43.59L10.3 9.45l-7.72 7.72c-.78.78-.78 2.05 0 2.83L4 21.41c.39.39.9.59 1.41.59.51 0 1.02-.2 1.41-.59l7.78-7.78 2.81-2.81c.8-.78.8-2.07 0-2.86zM5.41 20L4 18.59l7.72-7.72 1.47 1.35L5.41 20z\"/>\n",
              "  </svg>\n",
              "      </button>\n",
              "      \n",
              "  <style>\n",
              "    .colab-df-container {\n",
              "      display:flex;\n",
              "      flex-wrap:wrap;\n",
              "      gap: 12px;\n",
              "    }\n",
              "\n",
              "    .colab-df-convert {\n",
              "      background-color: #E8F0FE;\n",
              "      border: none;\n",
              "      border-radius: 50%;\n",
              "      cursor: pointer;\n",
              "      display: none;\n",
              "      fill: #1967D2;\n",
              "      height: 32px;\n",
              "      padding: 0 0 0 0;\n",
              "      width: 32px;\n",
              "    }\n",
              "\n",
              "    .colab-df-convert:hover {\n",
              "      background-color: #E2EBFA;\n",
              "      box-shadow: 0px 1px 2px rgba(60, 64, 67, 0.3), 0px 1px 3px 1px rgba(60, 64, 67, 0.15);\n",
              "      fill: #174EA6;\n",
              "    }\n",
              "\n",
              "    [theme=dark] .colab-df-convert {\n",
              "      background-color: #3B4455;\n",
              "      fill: #D2E3FC;\n",
              "    }\n",
              "\n",
              "    [theme=dark] .colab-df-convert:hover {\n",
              "      background-color: #434B5C;\n",
              "      box-shadow: 0px 1px 3px 1px rgba(0, 0, 0, 0.15);\n",
              "      filter: drop-shadow(0px 1px 2px rgba(0, 0, 0, 0.3));\n",
              "      fill: #FFFFFF;\n",
              "    }\n",
              "  </style>\n",
              "\n",
              "      <script>\n",
              "        const buttonEl =\n",
              "          document.querySelector('#df-86c43df3-987d-4d88-b1fc-750bf416baf3 button.colab-df-convert');\n",
              "        buttonEl.style.display =\n",
              "          google.colab.kernel.accessAllowed ? 'block' : 'none';\n",
              "\n",
              "        async function convertToInteractive(key) {\n",
              "          const element = document.querySelector('#df-86c43df3-987d-4d88-b1fc-750bf416baf3');\n",
              "          const dataTable =\n",
              "            await google.colab.kernel.invokeFunction('convertToInteractive',\n",
              "                                                     [key], {});\n",
              "          if (!dataTable) return;\n",
              "\n",
              "          const docLinkHtml = 'Like what you see? Visit the ' +\n",
              "            '<a target=\"_blank\" href=https://colab.research.google.com/notebooks/data_table.ipynb>data table notebook</a>'\n",
              "            + ' to learn more about interactive tables.';\n",
              "          element.innerHTML = '';\n",
              "          dataTable['output_type'] = 'display_data';\n",
              "          await google.colab.output.renderOutput(dataTable, element);\n",
              "          const docLink = document.createElement('div');\n",
              "          docLink.innerHTML = docLinkHtml;\n",
              "          element.appendChild(docLink);\n",
              "        }\n",
              "      </script>\n",
              "    </div>\n",
              "  </div>\n",
              "  "
            ]
          },
          "metadata": {},
          "execution_count": 34
        }
      ]
    },
    {
      "cell_type": "code",
      "source": [
        "prec_data.to_csv('/content/drive/MyDrive/precData.csv')"
      ],
      "metadata": {
        "id": "Zgsvb-eAgsLW"
      },
      "execution_count": null,
      "outputs": []
    },
    {
      "cell_type": "code",
      "source": [
        "\"\"\"data[\"pm10\"] = data[\"pm10\"].apply(lambda _: str(_))\n",
        "data[\"pm2.5\"] = data[\"pm2.5\"].apply(lambda _: str(_))\n",
        "data[\"co\"] = data[\"co\"].apply(lambda _: str(_))\n",
        "data[\"PM10\"] = data[\"PM10\"].apply(lambda _: str(_))\n",
        "data.info()\"\"\""
      ],
      "metadata": {
        "colab": {
          "base_uri": "https://localhost:8080/",
          "height": 54
        },
        "id": "UR8pLtO2mdpD",
        "outputId": "12b70bc2-d1f0-4496-f111-b83a68dd4707"
      },
      "execution_count": null,
      "outputs": [
        {
          "output_type": "execute_result",
          "data": {
            "text/plain": [
              "'data[\"pm10\"] = data[\"pm10\"].apply(lambda _: str(_))\\ndata[\"pm2.5\"] = data[\"pm2.5\"].apply(lambda _: str(_))\\ndata[\"co\"] = data[\"co\"].apply(lambda _: str(_))\\ndata[\"PM10\"] = data[\"PM10\"].apply(lambda _: str(_))\\ndata.info()'"
            ],
            "application/vnd.google.colaboratory.intrinsic+json": {
              "type": "string"
            }
          },
          "metadata": {},
          "execution_count": 31
        }
      ]
    },
    {
      "cell_type": "code",
      "source": [
        "\"\"\"def ts_train_test(all_data, time_steps, for_periods): \n",
        "    \n",
        "    input:\n",
        "     data: 날짜를 인덱스로 가지는 주식가격(Adj Close) 데이터\n",
        "    output:\n",
        "     X_train, y_train: 데이터의 70퍼\n",
        "     X_test : 데이터의 30퍼 \n",
        "    time_steps: # input 데이터의 time steps\n",
        "    for_periods: # output 데이터의 time steps\n",
        "    \n",
        "    # training & test set 만들기\n",
        "    ts_train = all_data[:42923].values\n",
        "    ts_valid = all_data[42924:52121].values\n",
        "    ts_test = all_data[52122:].values\n",
        "    ts_train_len = len(ts_train)\n",
        "    ts_valid_len = len(ts_valid)\n",
        "    ts_test_len = len(ts_test)\n",
        "    \n",
        "    # training 데이터의 samples 와 time steps로 원본데이터 슬라이싱하기\n",
        "    X_train = [] \n",
        "    y_train = [] \n",
        "    y_train_stacked = [] \n",
        "    for i in range(time_steps, ts_train_len - 1):\n",
        "        X_train.append(ts_train[i-time_steps:i,0:2])\n",
        "        y_train.append(ts_train[i:i+for_periods,3:4])\n",
        "    X_train, y_train = np.array(X_train), np.array(y_train)\n",
        "    \n",
        "    # 3차원으로 재구성하기\n",
        "    # np.reshape(samples, time steps, features) 로 만듦\n",
        "    X_train = np.reshape(X_train, (X_train.shape[0], X_train.shape[1],1))\n",
        "\n",
        "    # 검증 데이터의 samples 와 time steps로 원본데이터 슬라이싱하기\n",
        "    X_valid = [] \n",
        "    y_valid = [] \n",
        "    y_valid_stacked = [] \n",
        "    for i in range(time_steps, ts_valid_len - 1):\n",
        "        X_valid.append(ts_valid[i-time_steps:i,0])\n",
        "        y_valid.append(ts_valid[i:i+for_periods,0])\n",
        "    X_valid, y_valid = np.array(X_valid), np.array(y_valid)\n",
        "    \n",
        "    # 3차원으로 재구성하기\n",
        "    # np.reshape(samples, time steps, features) 로 만듦\n",
        "    X_valid = np.reshape(X_valid, (X_valid.shape[0], X_valid.shape[1],1))\n",
        "    \n",
        "    # Preparing to creat X_test \n",
        "    inputs = pd.concat((all_data[\"Adj Close\"][:'2018'], all_data[\"Adj Close\"]['2019':]), axis=0).values\n",
        "    inputs = inputs[len(inputs)-len(ts_test) - time_steps:]\n",
        "    inputs = inputs.reshape(-1,1)\n",
        "    \n",
        "    X_test = []\n",
        "    for i in range(time_steps, ts_test_len+ time_steps- for_periods):\n",
        "        X_test.append(inputs[i-time_steps:i,0])\n",
        "    X_test = np.array(X_test)\n",
        "    X_test = np.reshape(X_test, (X_test.shape[0], X_test.shape[1],1))\n",
        "    \n",
        "    return X_train, y_train, X_valid, y_valid, X_test\"\"\""
      ],
      "metadata": {
        "id": "yy08yT2UTTNj"
      },
      "execution_count": null,
      "outputs": []
    },
    {
      "cell_type": "code",
      "source": [
        "\"\"\"X_train, y_train, X_valid, y_valid, X_test = ts_train_test(data,24,1)\n",
        "\n",
        "# 3차원의 X_train을 데이터프레임 형식으로 바꿔서 눈으로 확인해보기\n",
        "X_train_see = pd.DataFrame(np.reshape(X_train, (X_train.shape[0], X_train.shape[1])))\n",
        "y_train_see = pd.DataFrame(y_train)\n",
        "pd.concat([X_train_see, y_train_see], axis = 1)\n",
        "\n",
        "# 3차원의 X_test를 데이터프레임 형식으로 바꿔서 눈으로 확인해보기\n",
        "X_test_see = pd.DataFrame(np.reshape(X_test, (X_test.shape[0], X_test.shape[1])))\n",
        "pd.DataFrame(X_test_see)\n",
        "\n",
        "\n",
        "\n",
        "print(\"There are \" + str(X_train.shape[0]) + \" samples in the training data\")\n",
        "# There are 1505 samples in the training data\n",
        "\n",
        "print(\"There are \" + str(X_test.shape[0]) + \" samples in the test data\")\n",
        "# There are 249 samples in the test data\"\"\""
      ],
      "metadata": {
        "id": "6XxN2KquTWJX"
      },
      "execution_count": null,
      "outputs": []
    },
    {
      "cell_type": "code",
      "source": [
        "data.info()"
      ],
      "metadata": {
        "colab": {
          "base_uri": "https://localhost:8080/"
        },
        "id": "8PpZSDXOhJ2B",
        "outputId": "c66fe760-9420-4311-fa29-90999bf34335"
      },
      "execution_count": null,
      "outputs": [
        {
          "output_type": "stream",
          "name": "stdout",
          "text": [
            "<class 'pandas.core.frame.DataFrame'>\n",
            "RangeIndex: 61320 entries, 0 to 61319\n",
            "Data columns (total 4 columns):\n",
            " #   Column  Non-Null Count  Dtype  \n",
            "---  ------  --------------  -----  \n",
            " 0   pm10    61320 non-null  float64\n",
            " 1   pm2.5   61320 non-null  float64\n",
            " 2   co      61320 non-null  float64\n",
            " 3   hour    61320 non-null  float64\n",
            "dtypes: float64(4)\n",
            "memory usage: 1.9 MB\n"
          ]
        }
      ]
    },
    {
      "cell_type": "code",
      "source": [
        "def windowed_dataset(x, y, window_size, batch_size, shuffle):\n",
        "    ds_x = tf.data.Dataset.from_tensor_slices(x)\n",
        "    ds_x = ds_x.window(WINDOW_SIZE, shift=1,stride=1, drop_remainder=True)\n",
        "    ds_x = ds_x.flat_map(lambda x: x.batch(WINDOW_SIZE))\n",
        "\n",
        "    ds_y = tf.data.Dataset.from_tensor_slices(y[WINDOW_SIZE:])\n",
        "    ds = tf.data.Dataset.zip((ds_x,ds_y))\n",
        "    if shuffle:\n",
        "      ds = ds.shuffle(1000)\n",
        "    return ds.batch(batch_size).prefetch(1)"
      ],
      "metadata": {
        "id": "9N0sZSb61Brd"
      },
      "execution_count": null,
      "outputs": []
    },
    {
      "cell_type": "code",
      "source": [
        "WINDOW_SIZE=6\n",
        "BATCH_SIZE=128"
      ],
      "metadata": {
        "id": "6480s3-bThX-"
      },
      "execution_count": null,
      "outputs": []
    },
    {
      "cell_type": "code",
      "source": [
        "from sklearn.model_selection import train_test_split\n",
        "X_train, X_rem, y_train, y_rem = train_test_split(x,Y, train_size=0.7, shuffle=False, random_state=0)\n",
        "X_valid, X_test, y_valid, y_test = train_test_split(X_rem,y_rem, test_size=0.5, shuffle=False, random_state=0)"
      ],
      "metadata": {
        "id": "t2lIB9aHTxSG"
      },
      "execution_count": null,
      "outputs": []
    },
    {
      "cell_type": "code",
      "source": [
        "# trian_data는 학습용 데이터셋, test_data는 검증용 데이터셋 입니다.\n",
        "train_data = windowed_dataset(X_train, y_train, WINDOW_SIZE, BATCH_SIZE, False)\n",
        "val_data = windowed_dataset(X_valid, y_valid, WINDOW_SIZE, BATCH_SIZE, False)\n",
        "test_data = windowed_dataset(X_test, y_test,WINDOW_SIZE, BATCH_SIZE, False)"
      ],
      "metadata": {
        "id": "kajLhtA-T-qk"
      },
      "execution_count": null,
      "outputs": []
    },
    {
      "cell_type": "code",
      "source": [
        "for x, y in train_data.take(1):\n",
        "  print(f'데이터셋x 샘플: {x}')\n",
        "  print(f'데이터셋y 샘플: {y}')"
      ],
      "metadata": {
        "colab": {
          "base_uri": "https://localhost:8080/"
        },
        "id": "zCIZrrVMUCUT",
        "outputId": "c7a158bb-4baf-4570-85a8-1b6de7eb94d7"
      },
      "execution_count": null,
      "outputs": [
        {
          "output_type": "stream",
          "name": "stdout",
          "text": [
            "데이터셋x 샘플: [[[-0.19050634 -0.14563612 -0.70242445]\n",
            "  [-0.48192884 -0.14563612 -0.70242445]\n",
            "  [-0.28764717 -0.14563612 -0.70242445]\n",
            "  [-0.41716828 -0.08677191 -0.70242445]\n",
            "  [-0.32002745  0.14868492  0.14729428]\n",
            "  [ 0.00377532  0.08982071  0.14729428]]\n",
            "\n",
            " [[-0.48192884 -0.14563612 -0.70242445]\n",
            "  [-0.28764717 -0.14563612 -0.70242445]\n",
            "  [-0.41716828 -0.08677191 -0.70242445]\n",
            "  [-0.32002745  0.14868492  0.14729428]\n",
            "  [ 0.00377532  0.08982071  0.14729428]\n",
            "  [-0.41716828  0.08982071  0.99701301]]\n",
            "\n",
            " [[-0.28764717 -0.14563612 -0.70242445]\n",
            "  [-0.41716828 -0.08677191 -0.70242445]\n",
            "  [-0.32002745  0.14868492  0.14729428]\n",
            "  [ 0.00377532  0.08982071  0.14729428]\n",
            "  [-0.41716828  0.08982071  0.99701301]\n",
            "  [-0.15812606  0.08982071  0.99701301]]\n",
            "\n",
            " ...\n",
            "\n",
            " [[-0.35240773 -0.26336453 -0.27756509]\n",
            "  [-0.15812606  0.03095651  0.14729428]\n",
            "  [ 0.00377532  0.14868492  0.57215364]\n",
            "  [ 0.29519782  0.38414175  0.57215364]\n",
            "  [ 0.35995837  0.61959858  0.99701301]\n",
            "  [ 0.47328934  0.50187017 -0.27756509]]\n",
            "\n",
            " [[-0.15812606  0.03095651  0.14729428]\n",
            "  [ 0.00377532  0.14868492  0.57215364]\n",
            "  [ 0.29519782  0.38414175  0.57215364]\n",
            "  [ 0.35995837  0.61959858  0.99701301]\n",
            "  [ 0.47328934  0.50187017 -0.27756509]\n",
            "  [ 0.58662032  0.38414175 -0.27756509]]\n",
            "\n",
            " [[ 0.00377532  0.14868492  0.57215364]\n",
            "  [ 0.29519782  0.38414175  0.57215364]\n",
            "  [ 0.35995837  0.61959858  0.99701301]\n",
            "  [ 0.47328934  0.50187017 -0.27756509]\n",
            "  [ 0.58662032  0.38414175 -0.27756509]\n",
            "  [ 0.26281754  0.03095651 -0.70242445]]]\n",
            "데이터셋y 샘플: [[ 31. ]\n",
            " [ 39. ]\n",
            " [ 28. ]\n",
            " [ 41. ]\n",
            " [ 43. ]\n",
            " [ 37. ]\n",
            " [ 44. ]\n",
            " [ 38. ]\n",
            " [ 34. ]\n",
            " [ 32. ]\n",
            " [ 34. ]\n",
            " [ 31. ]\n",
            " [ 23. ]\n",
            " [ 32. ]\n",
            " [ 37. ]\n",
            " [ 38. ]\n",
            " [ 31. ]\n",
            " [ 32. ]\n",
            " [ 27. ]\n",
            " [ 27. ]\n",
            " [ 26. ]\n",
            " [ 27. ]\n",
            " [ 29. ]\n",
            " [ 28. ]\n",
            " [ 26. ]\n",
            " [ 29. ]\n",
            " [ 36. ]\n",
            " [ 34. ]\n",
            " [ 30. ]\n",
            " [ 27. ]\n",
            " [ 28. ]\n",
            " [ 31. ]\n",
            " [ 36. ]\n",
            " [ 42. ]\n",
            " [ 54. ]\n",
            " [ 65. ]\n",
            " [ 66. ]\n",
            " [ 70. ]\n",
            " [ 78. ]\n",
            " [ 68. ]\n",
            " [ 76. ]\n",
            " [ 76. ]\n",
            " [ 53. ]\n",
            " [ 50. ]\n",
            " [ 72. ]\n",
            " [ 66. ]\n",
            " [ 65. ]\n",
            " [ 37. ]\n",
            " [ 44. ]\n",
            " [ 61. ]\n",
            " [ 50. ]\n",
            " [ 54. ]\n",
            " [ 83. ]\n",
            " [ 69. ]\n",
            " [ 68. ]\n",
            " [ 90. ]\n",
            " [ 91. ]\n",
            " [106. ]\n",
            " [118. ]\n",
            " [103. ]\n",
            " [ 98. ]\n",
            " [ 99. ]\n",
            " [125. ]\n",
            " [108. ]\n",
            " [ 97. ]\n",
            " [ 88. ]\n",
            " [ 87. ]\n",
            " [ 77. ]\n",
            " [ 78. ]\n",
            " [ 77. ]\n",
            " [ 69. ]\n",
            " [ 39. ]\n",
            " [ 32. ]\n",
            " [ 23. ]\n",
            " [ 37. ]\n",
            " [ 47. ]\n",
            " [ 50. ]\n",
            " [ 40. ]\n",
            " [ 40. ]\n",
            " [ 32. ]\n",
            " [ 25. ]\n",
            " [ 25. ]\n",
            " [ 25. ]\n",
            " [ 19. ]\n",
            " [ 13. ]\n",
            " [ 19. ]\n",
            " [ 18. ]\n",
            " [ 21. ]\n",
            " [ 15. ]\n",
            " [ 14. ]\n",
            " [ 13. ]\n",
            " [ 13. ]\n",
            " [ 20. ]\n",
            " [ 24. ]\n",
            " [ 23. ]\n",
            " [ 28. ]\n",
            " [ 31. ]\n",
            " [ 30. ]\n",
            " [ 40. ]\n",
            " [ 32. ]\n",
            " [ 34. ]\n",
            " [ 40. ]\n",
            " [ 34. ]\n",
            " [ 31. ]\n",
            " [ 31. ]\n",
            " [ 35. ]\n",
            " [ 48. ]\n",
            " [ 47. ]\n",
            " [ 37. ]\n",
            " [ 50. ]\n",
            " [ 48. ]\n",
            " [ 44. ]\n",
            " [ 40. ]\n",
            " [ 41. ]\n",
            " [ 38. ]\n",
            " [ 35. ]\n",
            " [ 33. ]\n",
            " [ 39. ]\n",
            " [ 27. ]\n",
            " [ 33. ]\n",
            " [ 39. ]\n",
            " [ 44. ]\n",
            " [ 53. ]\n",
            " [ 55. ]\n",
            " [ 58.5]\n",
            " [ 62. ]\n",
            " [ 52. ]\n",
            " [ 36. ]]\n"
          ]
        }
      ]
    },
    {
      "cell_type": "code",
      "source": [
        "# 아래의 코드로 데이터셋의 구성을 확인해 볼 수 있습니다.\n",
        "# X: (batch_size, window_size, feature)\n",
        "# Y: (batch_size, feature)\n",
        "for data in train_data.take(1):\n",
        "    print(f'데이터셋(X) 구성(batch_size, window_size, feature갯수): {data[0].shape}')\n",
        "    print(f'데이터셋(Y) 구성(batch_size, window_size, feature갯수): {data[1].shape}')\n"
      ],
      "metadata": {
        "colab": {
          "base_uri": "https://localhost:8080/"
        },
        "id": "L_I_ZNaSUEhP",
        "outputId": "cefd22a1-8b1a-49cc-8e2e-522f9eae6607"
      },
      "execution_count": null,
      "outputs": [
        {
          "output_type": "stream",
          "name": "stdout",
          "text": [
            "데이터셋(X) 구성(batch_size, window_size, feature갯수): (128, 6, 3)\n",
            "데이터셋(Y) 구성(batch_size, window_size, feature갯수): (128, 1)\n"
          ]
        }
      ]
    },
    {
      "cell_type": "code",
      "source": [
        "from keras.layers import Dropout\n",
        "from keras.layers import Bidirectional\n",
        "#LSTM\n",
        "model_lstm = Sequential([\n",
        "    Bidirectional(LSTM(units = 6, return_sequences = True, activation = 'tanh', input_shape=[WINDOW_SIZE, 3])),\n",
        "    Dropout(0.5),\n",
        "    Bidirectional(LSTM(units = 6, activation = 'tanh')),\n",
        "    Dense(1)\n",
        "])"
      ],
      "metadata": {
        "id": "CM1fX1ubUIHx"
      },
      "execution_count": null,
      "outputs": []
    },
    {
      "cell_type": "code",
      "source": [
        "#CNN\n",
        "model_cnn = Sequential([\n",
        "    # 1차원 feature map 생성\n",
        "    Conv2D(filters=32, kernel_size=(2, 1),\n",
        " #          padding=\"causal\",\n",
        "           activation=\"relu\",\n",
        "           input_shape=[WINDOW_SIZE, 3,1]),\n",
        "    #MaxPooling1D(pool_size=3),\n",
        "    Flatten(),\n",
        "    #Dense(100, activation=\"relu\"),\n",
        "    Dense(3, activation=\"relu\"),\n",
        "    Dense(3, activation=\"relu\"),\n",
        "    Dense(1)\n",
        "])"
      ],
      "metadata": {
        "id": "HEyw7puWH0Ta"
      },
      "execution_count": null,
      "outputs": []
    },
    {
      "cell_type": "code",
      "source": [
        "model_cnn.summary()"
      ],
      "metadata": {
        "colab": {
          "base_uri": "https://localhost:8080/"
        },
        "id": "rcsPxUb7DkZ1",
        "outputId": "a0919b6a-3c96-4380-b5b5-9c6fe14a8c53"
      },
      "execution_count": null,
      "outputs": [
        {
          "output_type": "stream",
          "name": "stdout",
          "text": [
            "Model: \"sequential_1\"\n",
            "_________________________________________________________________\n",
            " Layer (type)                Output Shape              Param #   \n",
            "=================================================================\n",
            " conv2d (Conv2D)             (None, 5, 3, 32)          96        \n",
            "                                                                 \n",
            " flatten (Flatten)           (None, 480)               0         \n",
            "                                                                 \n",
            " dense_1 (Dense)             (None, 3)                 1443      \n",
            "                                                                 \n",
            " dense_2 (Dense)             (None, 3)                 12        \n",
            "                                                                 \n",
            " dense_3 (Dense)             (None, 1)                 4         \n",
            "                                                                 \n",
            "=================================================================\n",
            "Total params: 1,555\n",
            "Trainable params: 1,555\n",
            "Non-trainable params: 0\n",
            "_________________________________________________________________\n"
          ]
        }
      ]
    },
    {
      "cell_type": "code",
      "source": [
        "from keras.optimizers import RMSprop\n",
        "from sklearn.metrics import mean_squared_error\n",
        "\n",
        "loss= tf.keras.losses.MeanAbsoluteError(reduction=\"auto\", name=\"mean_absolute_error\")\n",
        "opt = tf.keras.optimizers.Nadam(\n",
        "    learning_rate=0.0001, beta_1=0.9, beta_2=0.999, epsilon=1e-07, name=\"Nadam\")\n",
        "#model_lstm.compile(loss=loss, optimizer=opt, metrics=['MSE'])\n",
        "model_cnn.compile(loss=loss, optimizer=opt, metrics=['MSE'])"
      ],
      "metadata": {
        "id": "pHUGndL1UM2W"
      },
      "execution_count": null,
      "outputs": []
    },
    {
      "cell_type": "code",
      "source": [
        "# earlystopping은 10번 epoch통안 val_loss 개선이 없다면 학습을 멈춥니다.\n",
        "earlystopping = EarlyStopping(monitor='val_loss', patience=5)\n",
        "# val_loss 기준 체크포인터도 생성합니다.\n",
        "\n",
        "filename3 = os.path.join('./', 'ckeckpointer_lstm.ckpt')\n",
        "checkpoint_lstm = ModelCheckpoint(filename3, \n",
        "                             save_weights_only=True, \n",
        "                             save_best_only=True, \n",
        "                             monitor='val_loss', \n",
        "                             verbose=1)\n",
        "\n",
        "filename2 = os.path.join('./', 'ckeckpointer_cnn.ckpt')\n",
        "checkpoint_cnn = ModelCheckpoint(filename2, \n",
        "                             save_weights_only=True, \n",
        "                             save_best_only=True, \n",
        "                             monitor='val_loss', \n",
        "                             verbose=1)"
      ],
      "metadata": {
        "id": "RISF2VV7UQ48"
      },
      "execution_count": null,
      "outputs": []
    },
    {
      "cell_type": "code",
      "source": [
        "history2 = model_cnn.fit(train_data, \n",
        "                    validation_data=(val_data), \n",
        "                    epochs=200,\n",
        "                    callbacks=[checkpoint_cnn, earlystopping])"
      ],
      "metadata": {
        "colab": {
          "base_uri": "https://localhost:8080/"
        },
        "id": "kXbrX1lgUUM8",
        "outputId": "17093bcc-8c96-465d-ec75-95e0b867a553"
      },
      "execution_count": null,
      "outputs": [
        {
          "output_type": "stream",
          "name": "stdout",
          "text": [
            "Epoch 1/200\n",
            "    332/Unknown - 6s 13ms/step - loss: 45.9203 - MSE: 3057.1443\n",
            "Epoch 1: val_loss improved from inf to 38.69420, saving model to ./ckeckpointer_cnn.ckpt\n",
            "336/336 [==============================] - 7s 18ms/step - loss: 45.8859 - MSE: 3051.1719 - val_loss: 38.6942 - val_MSE: 2114.9478\n",
            "Epoch 2/200\n",
            "335/336 [============================>.] - ETA: 0s - loss: 45.4581 - MSE: 3013.7986\n",
            "Epoch 2: val_loss improved from 38.69420 to 37.94286, saving model to ./ckeckpointer_cnn.ckpt\n",
            "336/336 [==============================] - 5s 15ms/step - loss: 45.4506 - MSE: 3012.5037 - val_loss: 37.9429 - val_MSE: 2062.6375\n",
            "Epoch 3/200\n",
            "332/336 [============================>.] - ETA: 0s - loss: 44.1537 - MSE: 2904.2332\n",
            "Epoch 3: val_loss improved from 37.94286 to 35.90168, saving model to ./ckeckpointer_cnn.ckpt\n",
            "336/336 [==============================] - 5s 15ms/step - loss: 44.1104 - MSE: 2897.6252 - val_loss: 35.9017 - val_MSE: 1921.0864\n",
            "Epoch 4/200\n",
            "331/336 [============================>.] - ETA: 0s - loss: 41.2967 - MSE: 2658.1311\n",
            "Epoch 4: val_loss improved from 35.90168 to 32.43161, saving model to ./ckeckpointer_cnn.ckpt\n",
            "336/336 [==============================] - 5s 15ms/step - loss: 41.2295 - MSE: 2648.2278 - val_loss: 32.4316 - val_MSE: 1671.6187\n",
            "Epoch 5/200\n",
            "333/336 [============================>.] - ETA: 0s - loss: 37.0292 - MSE: 2270.5908\n",
            "Epoch 5: val_loss improved from 32.43161 to 28.34252, saving model to ./ckeckpointer_cnn.ckpt\n",
            "336/336 [==============================] - 5s 15ms/step - loss: 36.9793 - MSE: 2266.5063 - val_loss: 28.3425 - val_MSE: 1359.3973\n",
            "Epoch 6/200\n",
            "333/336 [============================>.] - ETA: 0s - loss: 32.3191 - MSE: 1827.1306\n",
            "Epoch 6: val_loss improved from 28.34252 to 24.54761, saving model to ./ckeckpointer_cnn.ckpt\n",
            "336/336 [==============================] - 5s 15ms/step - loss: 32.2612 - MSE: 1823.4680 - val_loss: 24.5476 - val_MSE: 1053.3638\n",
            "Epoch 7/200\n",
            "335/336 [============================>.] - ETA: 0s - loss: 27.6734 - MSE: 1395.7562\n",
            "Epoch 7: val_loss improved from 24.54761 to 21.17676, saving model to ./ckeckpointer_cnn.ckpt\n",
            "336/336 [==============================] - 5s 15ms/step - loss: 27.6646 - MSE: 1394.9086 - val_loss: 21.1768 - val_MSE: 785.6612\n",
            "Epoch 8/200\n",
            "335/336 [============================>.] - ETA: 0s - loss: 23.2995 - MSE: 1019.9057\n",
            "Epoch 8: val_loss improved from 21.17676 to 17.96737, saving model to ./ckeckpointer_cnn.ckpt\n",
            "336/336 [==============================] - 5s 15ms/step - loss: 23.2920 - MSE: 1019.2509 - val_loss: 17.9674 - val_MSE: 565.7252\n",
            "Epoch 9/200\n",
            "333/336 [============================>.] - ETA: 0s - loss: 19.2685 - MSE: 720.8676\n",
            "Epoch 9: val_loss improved from 17.96737 to 15.07229, saving model to ./ckeckpointer_cnn.ckpt\n",
            "336/336 [==============================] - 8s 23ms/step - loss: 19.2397 - MSE: 720.6909 - val_loss: 15.0723 - val_MSE: 403.0813\n",
            "Epoch 10/200\n",
            "334/336 [============================>.] - ETA: 0s - loss: 16.1533 - MSE: 523.4236\n",
            "Epoch 10: val_loss improved from 15.07229 to 13.10341, saving model to ./ckeckpointer_cnn.ckpt\n",
            "336/336 [==============================] - 5s 15ms/step - loss: 16.1393 - MSE: 522.5182 - val_loss: 13.1034 - val_MSE: 308.5035\n",
            "Epoch 11/200\n",
            "332/336 [============================>.] - ETA: 0s - loss: 14.3147 - MSE: 416.8983\n",
            "Epoch 11: val_loss improved from 13.10341 to 11.94144, saving model to ./ckeckpointer_cnn.ckpt\n",
            "336/336 [==============================] - 5s 15ms/step - loss: 14.3123 - MSE: 418.3283 - val_loss: 11.9414 - val_MSE: 260.3130\n",
            "Epoch 12/200\n",
            "332/336 [============================>.] - ETA: 0s - loss: 13.3527 - MSE: 367.6730\n",
            "Epoch 12: val_loss improved from 11.94144 to 11.24328, saving model to ./ckeckpointer_cnn.ckpt\n",
            "336/336 [==============================] - 5s 15ms/step - loss: 13.3610 - MSE: 369.7631 - val_loss: 11.2433 - val_MSE: 235.3209\n",
            "Epoch 13/200\n",
            "332/336 [============================>.] - ETA: 0s - loss: 12.8277 - MSE: 343.6353\n",
            "Epoch 13: val_loss improved from 11.24328 to 10.78904, saving model to ./ckeckpointer_cnn.ckpt\n",
            "336/336 [==============================] - 5s 16ms/step - loss: 12.8409 - MSE: 346.0091 - val_loss: 10.7890 - val_MSE: 220.7648\n",
            "Epoch 14/200\n",
            "336/336 [==============================] - ETA: 0s - loss: 12.5071 - MSE: 331.9086\n",
            "Epoch 14: val_loss improved from 10.78904 to 10.46231, saving model to ./ckeckpointer_cnn.ckpt\n",
            "336/336 [==============================] - 5s 15ms/step - loss: 12.5071 - MSE: 331.9086 - val_loss: 10.4623 - val_MSE: 210.6616\n",
            "Epoch 15/200\n",
            "333/336 [============================>.] - ETA: 0s - loss: 12.2278 - MSE: 318.5302\n",
            "Epoch 15: val_loss improved from 10.46231 to 10.20234, saving model to ./ckeckpointer_cnn.ckpt\n",
            "336/336 [==============================] - 5s 15ms/step - loss: 12.2491 - MSE: 321.4279 - val_loss: 10.2023 - val_MSE: 202.6771\n",
            "Epoch 16/200\n",
            "335/336 [============================>.] - ETA: 0s - loss: 12.0323 - MSE: 312.6970\n",
            "Epoch 16: val_loss improved from 10.20234 to 9.98665, saving model to ./ckeckpointer_cnn.ckpt\n",
            "336/336 [==============================] - 5s 16ms/step - loss: 12.0280 - MSE: 312.5070 - val_loss: 9.9867 - val_MSE: 195.9789\n",
            "Epoch 17/200\n",
            "332/336 [============================>.] - ETA: 0s - loss: 11.8117 - MSE: 302.0283\n",
            "Epoch 17: val_loss improved from 9.98665 to 9.79714, saving model to ./ckeckpointer_cnn.ckpt\n",
            "336/336 [==============================] - 5s 16ms/step - loss: 11.8292 - MSE: 304.5015 - val_loss: 9.7971 - val_MSE: 190.1034\n",
            "Epoch 18/200\n",
            "335/336 [============================>.] - ETA: 0s - loss: 11.6510 - MSE: 297.3250\n",
            "Epoch 18: val_loss improved from 9.79714 to 9.62848, saving model to ./ckeckpointer_cnn.ckpt\n",
            "336/336 [==============================] - 5s 16ms/step - loss: 11.6469 - MSE: 297.1465 - val_loss: 9.6285 - val_MSE: 184.8705\n",
            "Epoch 19/200\n",
            "333/336 [============================>.] - ETA: 0s - loss: 11.4572 - MSE: 287.6046\n",
            "Epoch 19: val_loss improved from 9.62848 to 9.47680, saving model to ./ckeckpointer_cnn.ckpt\n",
            "336/336 [==============================] - 5s 15ms/step - loss: 11.4787 - MSE: 290.3397 - val_loss: 9.4768 - val_MSE: 180.1449\n",
            "Epoch 20/200\n",
            "333/336 [============================>.] - ETA: 0s - loss: 11.3005 - MSE: 281.3255\n",
            "Epoch 20: val_loss improved from 9.47680 to 9.33683, saving model to ./ckeckpointer_cnn.ckpt\n",
            "336/336 [==============================] - 5s 15ms/step - loss: 11.3219 - MSE: 284.0086 - val_loss: 9.3368 - val_MSE: 175.8175\n",
            "Epoch 21/200\n",
            "334/336 [============================>.] - ETA: 0s - loss: 11.1712 - MSE: 277.9395\n",
            "Epoch 21: val_loss improved from 9.33683 to 9.20701, saving model to ./ckeckpointer_cnn.ckpt\n",
            "336/336 [==============================] - 5s 15ms/step - loss: 11.1747 - MSE: 278.0988 - val_loss: 9.2070 - val_MSE: 171.8417\n",
            "Epoch 22/200\n",
            "332/336 [============================>.] - ETA: 0s - loss: 11.0186 - MSE: 270.2691\n",
            "Epoch 22: val_loss improved from 9.20701 to 9.08549, saving model to ./ckeckpointer_cnn.ckpt\n",
            "336/336 [==============================] - 5s 15ms/step - loss: 11.0357 - MSE: 272.5197 - val_loss: 9.0855 - val_MSE: 168.1705\n",
            "Epoch 23/200\n",
            "333/336 [============================>.] - ETA: 0s - loss: 10.8858 - MSE: 264.7870\n",
            "Epoch 23: val_loss improved from 9.08549 to 8.97253, saving model to ./ckeckpointer_cnn.ckpt\n",
            "336/336 [==============================] - 5s 15ms/step - loss: 10.9065 - MSE: 267.3239 - val_loss: 8.9725 - val_MSE: 164.7704\n",
            "Epoch 24/200\n",
            "332/336 [============================>.] - ETA: 0s - loss: 10.7664 - MSE: 260.1901\n",
            "Epoch 24: val_loss improved from 8.97253 to 8.86644, saving model to ./ckeckpointer_cnn.ckpt\n",
            "336/336 [==============================] - 5s 15ms/step - loss: 10.7830 - MSE: 262.3521 - val_loss: 8.8664 - val_MSE: 161.5903\n",
            "Epoch 25/200\n",
            "333/336 [============================>.] - ETA: 0s - loss: 10.6455 - MSE: 255.1651\n",
            "Epoch 25: val_loss improved from 8.86644 to 8.76648, saving model to ./ckeckpointer_cnn.ckpt\n",
            "336/336 [==============================] - 7s 21ms/step - loss: 10.6657 - MSE: 257.6105 - val_loss: 8.7665 - val_MSE: 158.6084\n",
            "Epoch 26/200\n",
            "333/336 [============================>.] - ETA: 0s - loss: 10.5327 - MSE: 250.6543\n",
            "Epoch 26: val_loss improved from 8.76648 to 8.67108, saving model to ./ckeckpointer_cnn.ckpt\n",
            "336/336 [==============================] - 5s 16ms/step - loss: 10.5528 - MSE: 253.0576 - val_loss: 8.6711 - val_MSE: 155.7923\n",
            "Epoch 27/200\n",
            "334/336 [============================>.] - ETA: 0s - loss: 10.4420 - MSE: 248.6526\n",
            "Epoch 27: val_loss improved from 8.67108 to 8.57999, saving model to ./ckeckpointer_cnn.ckpt\n",
            "336/336 [==============================] - 5s 15ms/step - loss: 10.4441 - MSE: 248.6880 - val_loss: 8.5800 - val_MSE: 153.1247\n",
            "Epoch 28/200\n",
            "335/336 [============================>.] - ETA: 0s - loss: 10.3437 - MSE: 244.6533\n",
            "Epoch 28: val_loss improved from 8.57999 to 8.49294, saving model to ./ckeckpointer_cnn.ckpt\n",
            "336/336 [==============================] - 5s 15ms/step - loss: 10.3400 - MSE: 244.5128 - val_loss: 8.4929 - val_MSE: 150.5888\n",
            "Epoch 29/200\n",
            "333/336 [============================>.] - ETA: 0s - loss: 10.2192 - MSE: 238.1703\n",
            "Epoch 29: val_loss improved from 8.49294 to 8.40983, saving model to ./ckeckpointer_cnn.ckpt\n",
            "336/336 [==============================] - 5s 15ms/step - loss: 10.2387 - MSE: 240.4523 - val_loss: 8.4098 - val_MSE: 148.1721\n",
            "Epoch 30/200\n",
            "335/336 [============================>.] - ETA: 0s - loss: 10.1446 - MSE: 236.6767\n",
            "Epoch 30: val_loss improved from 8.40983 to 8.32989, saving model to ./ckeckpointer_cnn.ckpt\n",
            "336/336 [==============================] - 5s 15ms/step - loss: 10.1410 - MSE: 236.5420 - val_loss: 8.3299 - val_MSE: 145.8599\n",
            "Epoch 31/200\n",
            "332/336 [============================>.] - ETA: 0s - loss: 10.0305 - MSE: 230.8080\n",
            "Epoch 31: val_loss improved from 8.32989 to 8.25234, saving model to ./ckeckpointer_cnn.ckpt\n",
            "336/336 [==============================] - 5s 15ms/step - loss: 10.0456 - MSE: 232.7066 - val_loss: 8.2523 - val_MSE: 143.6237\n",
            "Epoch 32/200\n",
            "332/336 [============================>.] - ETA: 0s - loss: 9.9378 - MSE: 227.0933\n",
            "Epoch 32: val_loss improved from 8.25234 to 8.17774, saving model to ./ckeckpointer_cnn.ckpt\n",
            "336/336 [==============================] - 5s 15ms/step - loss: 9.9527 - MSE: 228.9606 - val_loss: 8.1777 - val_MSE: 141.4641\n",
            "Epoch 33/200\n",
            "335/336 [============================>.] - ETA: 0s - loss: 9.8648 - MSE: 225.3888\n",
            "Epoch 33: val_loss improved from 8.17774 to 8.10509, saving model to ./ckeckpointer_cnn.ckpt\n",
            "336/336 [==============================] - 6s 19ms/step - loss: 9.8613 - MSE: 225.2625 - val_loss: 8.1051 - val_MSE: 139.3647\n",
            "Epoch 34/200\n",
            "334/336 [============================>.] - ETA: 0s - loss: 9.7700 - MSE: 221.6833\n",
            "Epoch 34: val_loss improved from 8.10509 to 8.03415, saving model to ./ckeckpointer_cnn.ckpt\n",
            "336/336 [==============================] - 5s 15ms/step - loss: 9.7709 - MSE: 221.6285 - val_loss: 8.0341 - val_MSE: 137.3400\n",
            "Epoch 35/200\n",
            "334/336 [============================>.] - ETA: 0s - loss: 9.6834 - MSE: 218.2595\n",
            "Epoch 35: val_loss improved from 8.03415 to 7.96485, saving model to ./ckeckpointer_cnn.ckpt\n",
            "336/336 [==============================] - 5s 16ms/step - loss: 9.6842 - MSE: 218.1957 - val_loss: 7.9649 - val_MSE: 135.3620\n",
            "Epoch 36/200\n",
            "332/336 [============================>.] - ETA: 0s - loss: 9.5844 - MSE: 213.0138\n",
            "Epoch 36: val_loss improved from 7.96485 to 7.89616, saving model to ./ckeckpointer_cnn.ckpt\n",
            "336/336 [==============================] - 5s 15ms/step - loss: 9.5985 - MSE: 214.7710 - val_loss: 7.8962 - val_MSE: 133.4270\n",
            "Epoch 37/200\n",
            "331/336 [============================>.] - ETA: 0s - loss: 9.5055 - MSE: 209.9702\n",
            "Epoch 37: val_loss improved from 7.89616 to 7.82847, saving model to ./ckeckpointer_cnn.ckpt\n",
            "336/336 [==============================] - 5s 15ms/step - loss: 9.5148 - MSE: 211.4368 - val_loss: 7.8285 - val_MSE: 131.5459\n",
            "Epoch 38/200\n",
            "331/336 [============================>.] - ETA: 0s - loss: 9.4226 - MSE: 206.7166\n",
            "Epoch 38: val_loss improved from 7.82847 to 7.76222, saving model to ./ckeckpointer_cnn.ckpt\n",
            "336/336 [==============================] - 5s 15ms/step - loss: 9.4317 - MSE: 208.1648 - val_loss: 7.7622 - val_MSE: 129.7001\n",
            "Epoch 39/200\n",
            "333/336 [============================>.] - ETA: 0s - loss: 9.3326 - MSE: 203.0072\n",
            "Epoch 39: val_loss improved from 7.76222 to 7.69650, saving model to ./ckeckpointer_cnn.ckpt\n",
            "336/336 [==============================] - 5s 15ms/step - loss: 9.3504 - MSE: 204.9832 - val_loss: 7.6965 - val_MSE: 127.8864\n",
            "Epoch 40/200\n",
            "333/336 [============================>.] - ETA: 0s - loss: 9.2532 - MSE: 199.9410\n",
            "Epoch 40: val_loss improved from 7.69650 to 7.63125, saving model to ./ckeckpointer_cnn.ckpt\n",
            "336/336 [==============================] - 5s 15ms/step - loss: 9.2708 - MSE: 201.8938 - val_loss: 7.6312 - val_MSE: 126.1019\n",
            "Epoch 41/200\n",
            "333/336 [============================>.] - ETA: 0s - loss: 9.1752 - MSE: 196.9152\n",
            "Epoch 41: val_loss improved from 7.63125 to 7.56725, saving model to ./ckeckpointer_cnn.ckpt\n",
            "336/336 [==============================] - 5s 15ms/step - loss: 9.1927 - MSE: 198.8450 - val_loss: 7.5672 - val_MSE: 124.3581\n",
            "Epoch 42/200\n",
            "335/336 [============================>.] - ETA: 0s - loss: 9.1191 - MSE: 195.9833\n",
            "Epoch 42: val_loss improved from 7.56725 to 7.50428, saving model to ./ckeckpointer_cnn.ckpt\n",
            "336/336 [==============================] - 5s 15ms/step - loss: 9.1161 - MSE: 195.8796 - val_loss: 7.5043 - val_MSE: 122.6324\n",
            "Epoch 43/200\n",
            "336/336 [==============================] - ETA: 0s - loss: 9.0403 - MSE: 192.9570\n",
            "Epoch 43: val_loss improved from 7.50428 to 7.44158, saving model to ./ckeckpointer_cnn.ckpt\n",
            "336/336 [==============================] - 5s 15ms/step - loss: 9.0403 - MSE: 192.9570 - val_loss: 7.4416 - val_MSE: 120.9398\n",
            "Epoch 44/200\n",
            "335/336 [============================>.] - ETA: 0s - loss: 8.9694 - MSE: 190.1852\n",
            "Epoch 44: val_loss improved from 7.44158 to 7.37917, saving model to ./ckeckpointer_cnn.ckpt\n",
            "336/336 [==============================] - 5s 15ms/step - loss: 8.9665 - MSE: 190.0860 - val_loss: 7.3792 - val_MSE: 119.2736\n",
            "Epoch 45/200\n",
            "335/336 [============================>.] - ETA: 0s - loss: 8.8967 - MSE: 187.4181\n",
            "Epoch 45: val_loss improved from 7.37917 to 7.31739, saving model to ./ckeckpointer_cnn.ckpt\n",
            "336/336 [==============================] - 5s 15ms/step - loss: 8.8939 - MSE: 187.3211 - val_loss: 7.3174 - val_MSE: 117.6298\n",
            "Epoch 46/200\n",
            "334/336 [============================>.] - ETA: 0s - loss: 8.8224 - MSE: 184.7254\n",
            "Epoch 46: val_loss improved from 7.31739 to 7.25618, saving model to ./ckeckpointer_cnn.ckpt\n",
            "336/336 [==============================] - 5s 15ms/step - loss: 8.8224 - MSE: 184.6147 - val_loss: 7.2562 - val_MSE: 115.9951\n",
            "Epoch 47/200\n",
            "333/336 [============================>.] - ETA: 0s - loss: 8.7354 - MSE: 180.1458\n",
            "Epoch 47: val_loss improved from 7.25618 to 7.19540, saving model to ./ckeckpointer_cnn.ckpt\n",
            "336/336 [==============================] - 5s 15ms/step - loss: 8.7523 - MSE: 181.9560 - val_loss: 7.1954 - val_MSE: 114.3971\n",
            "Epoch 48/200\n",
            "335/336 [============================>.] - ETA: 0s - loss: 8.6866 - MSE: 179.4697\n",
            "Epoch 48: val_loss improved from 7.19540 to 7.13511, saving model to ./ckeckpointer_cnn.ckpt\n",
            "336/336 [==============================] - 5s 15ms/step - loss: 8.6839 - MSE: 179.3788 - val_loss: 7.1351 - val_MSE: 112.8197\n",
            "Epoch 49/200\n",
            "333/336 [============================>.] - ETA: 0s - loss: 8.6003 - MSE: 175.0600\n",
            "Epoch 49: val_loss improved from 7.13511 to 7.07576, saving model to ./ckeckpointer_cnn.ckpt\n",
            "336/336 [==============================] - 5s 15ms/step - loss: 8.6170 - MSE: 176.8369 - val_loss: 7.0758 - val_MSE: 111.2611\n",
            "Epoch 50/200\n",
            "334/336 [============================>.] - ETA: 0s - loss: 8.5506 - MSE: 174.4771\n",
            "Epoch 50: val_loss improved from 7.07576 to 7.01695, saving model to ./ckeckpointer_cnn.ckpt\n",
            "336/336 [==============================] - 5s 16ms/step - loss: 8.5505 - MSE: 174.3643 - val_loss: 7.0170 - val_MSE: 109.7291\n",
            "Epoch 51/200\n",
            "336/336 [==============================] - ETA: 0s - loss: 8.4850 - MSE: 171.9539\n",
            "Epoch 51: val_loss improved from 7.01695 to 6.95842, saving model to ./ckeckpointer_cnn.ckpt\n",
            "336/336 [==============================] - 5s 15ms/step - loss: 8.4850 - MSE: 171.9539 - val_loss: 6.9584 - val_MSE: 108.2005\n",
            "Epoch 52/200\n",
            "335/336 [============================>.] - ETA: 0s - loss: 8.4232 - MSE: 169.6273\n",
            "Epoch 52: val_loss improved from 6.95842 to 6.90114, saving model to ./ckeckpointer_cnn.ckpt\n",
            "336/336 [==============================] - 5s 16ms/step - loss: 8.4207 - MSE: 169.5442 - val_loss: 6.9011 - val_MSE: 106.6990\n",
            "Epoch 53/200\n",
            "333/336 [============================>.] - ETA: 0s - loss: 8.3405 - MSE: 165.4750\n",
            "Epoch 53: val_loss improved from 6.90114 to 6.84471, saving model to ./ckeckpointer_cnn.ckpt\n",
            "336/336 [==============================] - 5s 15ms/step - loss: 8.3569 - MSE: 167.1886 - val_loss: 6.8447 - val_MSE: 105.2202\n",
            "Epoch 54/200\n",
            "332/336 [============================>.] - ETA: 0s - loss: 8.2824 - MSE: 163.4515\n",
            "Epoch 54: val_loss improved from 6.84471 to 6.78836, saving model to ./ckeckpointer_cnn.ckpt\n",
            "336/336 [==============================] - 5s 16ms/step - loss: 8.2947 - MSE: 164.9127 - val_loss: 6.7884 - val_MSE: 103.7439\n",
            "Epoch 55/200\n",
            "335/336 [============================>.] - ETA: 0s - loss: 8.2349 - MSE: 162.7283\n",
            "Epoch 55: val_loss improved from 6.78836 to 6.73301, saving model to ./ckeckpointer_cnn.ckpt\n",
            "336/336 [==============================] - 5s 15ms/step - loss: 8.2325 - MSE: 162.6505 - val_loss: 6.7330 - val_MSE: 102.2989\n",
            "Epoch 56/200\n",
            "336/336 [==============================] - ETA: 0s - loss: 8.1715 - MSE: 160.4692\n",
            "Epoch 56: val_loss improved from 6.73301 to 6.67826, saving model to ./ckeckpointer_cnn.ckpt\n",
            "336/336 [==============================] - 5s 15ms/step - loss: 8.1715 - MSE: 160.4692 - val_loss: 6.6783 - val_MSE: 100.8683\n",
            "Epoch 57/200\n",
            "334/336 [============================>.] - ETA: 0s - loss: 8.1119 - MSE: 158.4327\n",
            "Epoch 57: val_loss improved from 6.67826 to 6.62361, saving model to ./ckeckpointer_cnn.ckpt\n",
            "336/336 [==============================] - 5s 15ms/step - loss: 8.1116 - MSE: 158.3230 - val_loss: 6.6236 - val_MSE: 99.4503\n",
            "Epoch 58/200\n",
            "334/336 [============================>.] - ETA: 0s - loss: 8.0534 - MSE: 156.3225\n",
            "Epoch 58: val_loss improved from 6.62361 to 6.57011, saving model to ./ckeckpointer_cnn.ckpt\n",
            "336/336 [==============================] - 5s 15ms/step - loss: 8.0531 - MSE: 156.2136 - val_loss: 6.5701 - val_MSE: 98.0619\n",
            "Epoch 59/200\n",
            "335/336 [============================>.] - ETA: 0s - loss: 7.9982 - MSE: 154.2798\n",
            "Epoch 59: val_loss improved from 6.57011 to 6.51676, saving model to ./ckeckpointer_cnn.ckpt\n",
            "336/336 [==============================] - 5s 16ms/step - loss: 7.9960 - MSE: 154.2086 - val_loss: 6.5168 - val_MSE: 96.6831\n",
            "Epoch 60/200\n",
            "333/336 [============================>.] - ETA: 0s - loss: 7.9235 - MSE: 150.5706\n",
            "Epoch 60: val_loss improved from 6.51676 to 6.46364, saving model to ./ckeckpointer_cnn.ckpt\n",
            "336/336 [==============================] - 5s 15ms/step - loss: 7.9393 - MSE: 152.1824 - val_loss: 6.4636 - val_MSE: 95.3141\n",
            "Epoch 61/200\n",
            "335/336 [============================>.] - ETA: 0s - loss: 7.8858 - MSE: 150.2385\n",
            "Epoch 61: val_loss improved from 6.46364 to 6.41123, saving model to ./ckeckpointer_cnn.ckpt\n",
            "336/336 [==============================] - 7s 20ms/step - loss: 7.8836 - MSE: 150.1704 - val_loss: 6.4112 - val_MSE: 93.9565\n",
            "Epoch 62/200\n",
            "332/336 [============================>.] - ETA: 0s - loss: 7.8164 - MSE: 146.8236\n",
            "Epoch 62: val_loss improved from 6.41123 to 6.36019, saving model to ./ckeckpointer_cnn.ckpt\n",
            "336/336 [==============================] - 5s 16ms/step - loss: 7.8282 - MSE: 148.1930 - val_loss: 6.3602 - val_MSE: 92.6404\n",
            "Epoch 63/200\n",
            "335/336 [============================>.] - ETA: 0s - loss: 7.7767 - MSE: 146.3623\n",
            "Epoch 63: val_loss improved from 6.36019 to 6.30982, saving model to ./ckeckpointer_cnn.ckpt\n",
            "336/336 [==============================] - 5s 15ms/step - loss: 7.7746 - MSE: 146.2971 - val_loss: 6.3098 - val_MSE: 91.3463\n",
            "Epoch 64/200\n",
            "332/336 [============================>.] - ETA: 0s - loss: 7.7102 - MSE: 143.1223\n",
            "Epoch 64: val_loss improved from 6.30982 to 6.25960, saving model to ./ckeckpointer_cnn.ckpt\n",
            "336/336 [==============================] - 5s 15ms/step - loss: 7.7218 - MSE: 144.4695 - val_loss: 6.2596 - val_MSE: 90.0765\n",
            "Epoch 65/200\n",
            "335/336 [============================>.] - ETA: 0s - loss: 7.6715 - MSE: 142.6962\n",
            "Epoch 65: val_loss improved from 6.25960 to 6.20943, saving model to ./ckeckpointer_cnn.ckpt\n",
            "336/336 [==============================] - 10s 30ms/step - loss: 7.6694 - MSE: 142.6338 - val_loss: 6.2094 - val_MSE: 88.8094\n",
            "Epoch 66/200\n",
            "334/336 [============================>.] - ETA: 0s - loss: 7.6189 - MSE: 140.9779\n",
            "Epoch 66: val_loss improved from 6.20943 to 6.15958, saving model to ./ckeckpointer_cnn.ckpt\n",
            "336/336 [==============================] - 5s 15ms/step - loss: 7.6182 - MSE: 140.8793 - val_loss: 6.1596 - val_MSE: 87.5579\n",
            "Epoch 67/200\n",
            "332/336 [============================>.] - ETA: 0s - loss: 7.5559 - MSE: 137.8266\n",
            "Epoch 67: val_loss improved from 6.15958 to 6.11020, saving model to ./ckeckpointer_cnn.ckpt\n",
            "336/336 [==============================] - 5s 15ms/step - loss: 7.5672 - MSE: 139.1393 - val_loss: 6.1102 - val_MSE: 86.3307\n",
            "Epoch 68/200\n",
            "332/336 [============================>.] - ETA: 0s - loss: 7.5064 - MSE: 136.1222\n",
            "Epoch 68: val_loss improved from 6.11020 to 6.06166, saving model to ./ckeckpointer_cnn.ckpt\n",
            "336/336 [==============================] - 5s 16ms/step - loss: 7.5176 - MSE: 137.4229 - val_loss: 6.0617 - val_MSE: 85.1210\n",
            "Epoch 69/200\n",
            "332/336 [============================>.] - ETA: 0s - loss: 7.4572 - MSE: 134.4490\n",
            "Epoch 69: val_loss improved from 6.06166 to 6.01310, saving model to ./ckeckpointer_cnn.ckpt\n",
            "336/336 [==============================] - 6s 18ms/step - loss: 7.4683 - MSE: 135.7389 - val_loss: 6.0131 - val_MSE: 83.9184\n",
            "Epoch 70/200\n",
            "335/336 [============================>.] - ETA: 0s - loss: 7.4223 - MSE: 134.1538\n",
            "Epoch 70: val_loss improved from 6.01310 to 5.96574, saving model to ./ckeckpointer_cnn.ckpt\n",
            "336/336 [==============================] - 5s 16ms/step - loss: 7.4203 - MSE: 134.0979 - val_loss: 5.9657 - val_MSE: 82.7497\n",
            "Epoch 71/200\n",
            "336/336 [==============================] - ETA: 0s - loss: 7.3732 - MSE: 132.4966\n",
            "Epoch 71: val_loss improved from 5.96574 to 5.91908, saving model to ./ckeckpointer_cnn.ckpt\n",
            "336/336 [==============================] - 5s 16ms/step - loss: 7.3732 - MSE: 132.4966 - val_loss: 5.9191 - val_MSE: 81.6017\n",
            "Epoch 72/200\n",
            "334/336 [============================>.] - ETA: 0s - loss: 7.3279 - MSE: 131.0021\n",
            "Epoch 72: val_loss improved from 5.91908 to 5.87384, saving model to ./ckeckpointer_cnn.ckpt\n",
            "336/336 [==============================] - 5s 16ms/step - loss: 7.3269 - MSE: 130.9116 - val_loss: 5.8738 - val_MSE: 80.4788\n",
            "Epoch 73/200\n",
            "333/336 [============================>.] - ETA: 0s - loss: 7.2676 - MSE: 127.9281\n",
            "Epoch 73: val_loss improved from 5.87384 to 5.82926, saving model to ./ckeckpointer_cnn.ckpt\n",
            "336/336 [==============================] - 5s 15ms/step - loss: 7.2819 - MSE: 129.3636 - val_loss: 5.8293 - val_MSE: 79.3656\n",
            "Epoch 74/200\n",
            "333/336 [============================>.] - ETA: 0s - loss: 7.2235 - MSE: 126.4366\n",
            "Epoch 74: val_loss improved from 5.82926 to 5.78563, saving model to ./ckeckpointer_cnn.ckpt\n",
            "336/336 [==============================] - 5s 16ms/step - loss: 7.2376 - MSE: 127.8583 - val_loss: 5.7856 - val_MSE: 78.2740\n",
            "Epoch 75/200\n",
            "334/336 [============================>.] - ETA: 0s - loss: 7.1951 - MSE: 126.4481\n",
            "Epoch 75: val_loss improved from 5.78563 to 5.74280, saving model to ./ckeckpointer_cnn.ckpt\n",
            "336/336 [==============================] - 5s 16ms/step - loss: 7.1941 - MSE: 126.3615 - val_loss: 5.7428 - val_MSE: 77.2018\n",
            "Epoch 76/200\n",
            "334/336 [============================>.] - ETA: 0s - loss: 7.1525 - MSE: 125.0060\n",
            "Epoch 76: val_loss improved from 5.74280 to 5.70081, saving model to ./ckeckpointer_cnn.ckpt\n",
            "336/336 [==============================] - 7s 21ms/step - loss: 7.1515 - MSE: 124.9203 - val_loss: 5.7008 - val_MSE: 76.1528\n",
            "Epoch 77/200\n",
            "332/336 [============================>.] - ETA: 0s - loss: 7.0996 - MSE: 122.3222\n",
            "Epoch 77: val_loss improved from 5.70081 to 5.65975, saving model to ./ckeckpointer_cnn.ckpt\n",
            "336/336 [==============================] - 5s 16ms/step - loss: 7.1100 - MSE: 123.5215 - val_loss: 5.6598 - val_MSE: 75.1326\n",
            "Epoch 78/200\n",
            "332/336 [============================>.] - ETA: 0s - loss: 7.0593 - MSE: 120.9638\n",
            "Epoch 78: val_loss improved from 5.65975 to 5.61947, saving model to ./ckeckpointer_cnn.ckpt\n",
            "336/336 [==============================] - 5s 16ms/step - loss: 7.0696 - MSE: 122.1516 - val_loss: 5.6195 - val_MSE: 74.1370\n",
            "Epoch 79/200\n",
            "335/336 [============================>.] - ETA: 0s - loss: 7.0318 - MSE: 120.8664\n",
            "Epoch 79: val_loss improved from 5.61947 to 5.57955, saving model to ./ckeckpointer_cnn.ckpt\n",
            "336/336 [==============================] - 7s 21ms/step - loss: 7.0301 - MSE: 120.8200 - val_loss: 5.5795 - val_MSE: 73.1522\n",
            "Epoch 80/200\n",
            "334/336 [============================>.] - ETA: 0s - loss: 6.9927 - MSE: 119.6064\n",
            "Epoch 80: val_loss improved from 5.57955 to 5.54024, saving model to ./ckeckpointer_cnn.ckpt\n",
            "336/336 [==============================] - 5s 15ms/step - loss: 6.9916 - MSE: 119.5244 - val_loss: 5.5402 - val_MSE: 72.1799\n",
            "Epoch 81/200\n",
            "334/336 [============================>.] - ETA: 0s - loss: 6.9552 - MSE: 118.3523\n",
            "Epoch 81: val_loss improved from 5.54024 to 5.50214, saving model to ./ckeckpointer_cnn.ckpt\n",
            "336/336 [==============================] - 5s 16ms/step - loss: 6.9541 - MSE: 118.2708 - val_loss: 5.5021 - val_MSE: 71.2465\n",
            "Epoch 82/200\n",
            "333/336 [============================>.] - ETA: 0s - loss: 6.9040 - MSE: 115.7241\n",
            "Epoch 82: val_loss improved from 5.50214 to 5.46446, saving model to ./ckeckpointer_cnn.ckpt\n",
            "336/336 [==============================] - 5s 16ms/step - loss: 6.9176 - MSE: 117.0374 - val_loss: 5.4645 - val_MSE: 70.3260\n",
            "Epoch 83/200\n",
            "334/336 [============================>.] - ETA: 0s - loss: 6.8825 - MSE: 115.9036\n",
            "Epoch 83: val_loss improved from 5.46446 to 5.42763, saving model to ./ckeckpointer_cnn.ckpt\n",
            "336/336 [==============================] - 7s 21ms/step - loss: 6.8814 - MSE: 115.8233 - val_loss: 5.4276 - val_MSE: 69.4261\n",
            "Epoch 84/200\n",
            "334/336 [============================>.] - ETA: 0s - loss: 6.8470 - MSE: 114.7095\n",
            "Epoch 84: val_loss improved from 5.42763 to 5.39159, saving model to ./ckeckpointer_cnn.ckpt\n",
            "336/336 [==============================] - 5s 16ms/step - loss: 6.8459 - MSE: 114.6298 - val_loss: 5.3916 - val_MSE: 68.5550\n",
            "Epoch 85/200\n",
            "332/336 [============================>.] - ETA: 0s - loss: 6.8017 - MSE: 112.3619\n",
            "Epoch 85: val_loss improved from 5.39159 to 5.35637, saving model to ./ckeckpointer_cnn.ckpt\n",
            "336/336 [==============================] - 5s 16ms/step - loss: 6.8113 - MSE: 113.4641 - val_loss: 5.3564 - val_MSE: 67.7009\n",
            "Epoch 86/200\n",
            "331/336 [============================>.] - ETA: 0s - loss: 6.7713 - MSE: 111.3899\n",
            "Epoch 86: val_loss improved from 5.35637 to 5.32163, saving model to ./ckeckpointer_cnn.ckpt\n",
            "336/336 [==============================] - 5s 16ms/step - loss: 6.7775 - MSE: 112.3119 - val_loss: 5.3216 - val_MSE: 66.8547\n",
            "Epoch 87/200\n",
            "335/336 [============================>.] - ETA: 0s - loss: 6.7459 - MSE: 111.2061\n",
            "Epoch 87: val_loss improved from 5.32163 to 5.28752, saving model to ./ckeckpointer_cnn.ckpt\n",
            "336/336 [==============================] - 5s 16ms/step - loss: 6.7444 - MSE: 111.1659 - val_loss: 5.2875 - val_MSE: 66.0270\n",
            "Epoch 88/200\n",
            "333/336 [============================>.] - ETA: 0s - loss: 6.6989 - MSE: 108.8084\n",
            "Epoch 88: val_loss improved from 5.28752 to 5.25431, saving model to ./ckeckpointer_cnn.ckpt\n",
            "336/336 [==============================] - 5s 15ms/step - loss: 6.7118 - MSE: 110.0390 - val_loss: 5.2543 - val_MSE: 65.2242\n",
            "Epoch 89/200\n",
            "334/336 [============================>.] - ETA: 0s - loss: 6.6811 - MSE: 109.0268\n",
            "Epoch 89: val_loss improved from 5.25431 to 5.22185, saving model to ./ckeckpointer_cnn.ckpt\n",
            "336/336 [==============================] - 7s 21ms/step - loss: 6.6800 - MSE: 108.9498 - val_loss: 5.2218 - val_MSE: 64.4422\n",
            "Epoch 90/200\n",
            "334/336 [============================>.] - ETA: 0s - loss: 6.6499 - MSE: 107.9669\n",
            "Epoch 90: val_loss improved from 5.22185 to 5.18997, saving model to ./ckeckpointer_cnn.ckpt\n",
            "336/336 [==============================] - 5s 16ms/step - loss: 6.6488 - MSE: 107.8902 - val_loss: 5.1900 - val_MSE: 63.6731\n",
            "Epoch 91/200\n",
            "336/336 [==============================] - ETA: 0s - loss: 6.6185 - MSE: 106.8403\n",
            "Epoch 91: val_loss improved from 5.18997 to 5.15918, saving model to ./ckeckpointer_cnn.ckpt\n",
            "336/336 [==============================] - 5s 16ms/step - loss: 6.6185 - MSE: 106.8403 - val_loss: 5.1592 - val_MSE: 62.9293\n",
            "Epoch 92/200\n",
            "331/336 [============================>.] - ETA: 0s - loss: 6.5829 - MSE: 104.9381\n",
            "Epoch 92: val_loss improved from 5.15918 to 5.12876, saving model to ./ckeckpointer_cnn.ckpt\n",
            "336/336 [==============================] - 5s 16ms/step - loss: 6.5888 - MSE: 105.7957 - val_loss: 5.1288 - val_MSE: 62.1931\n",
            "Epoch 93/200\n",
            "333/336 [============================>.] - ETA: 0s - loss: 6.5470 - MSE: 103.6259\n",
            "Epoch 93: val_loss improved from 5.12876 to 5.09825, saving model to ./ckeckpointer_cnn.ckpt\n",
            "336/336 [==============================] - 5s 15ms/step - loss: 6.5595 - MSE: 104.7880 - val_loss: 5.0983 - val_MSE: 61.4569\n",
            "Epoch 94/200\n",
            "336/336 [==============================] - ETA: 0s - loss: 6.5312 - MSE: 103.8096\n",
            "Epoch 94: val_loss improved from 5.09825 to 5.06895, saving model to ./ckeckpointer_cnn.ckpt\n",
            "336/336 [==============================] - 5s 15ms/step - loss: 6.5312 - MSE: 103.8096 - val_loss: 5.0689 - val_MSE: 60.7511\n",
            "Epoch 95/200\n",
            "333/336 [============================>.] - ETA: 0s - loss: 6.4911 - MSE: 101.7007\n",
            "Epoch 95: val_loss improved from 5.06895 to 5.04101, saving model to ./ckeckpointer_cnn.ckpt\n",
            "336/336 [==============================] - 5s 16ms/step - loss: 6.5035 - MSE: 102.8376 - val_loss: 5.0410 - val_MSE: 60.0774\n",
            "Epoch 96/200\n",
            "336/336 [==============================] - ETA: 0s - loss: 6.4770 - MSE: 101.8761\n",
            "Epoch 96: val_loss improved from 5.04101 to 5.01343, saving model to ./ckeckpointer_cnn.ckpt\n",
            "336/336 [==============================] - 7s 21ms/step - loss: 6.4770 - MSE: 101.8761 - val_loss: 5.0134 - val_MSE: 59.4013\n",
            "Epoch 97/200\n",
            "333/336 [============================>.] - ETA: 0s - loss: 6.4390 - MSE: 99.8531\n",
            "Epoch 97: val_loss improved from 5.01343 to 4.98694, saving model to ./ckeckpointer_cnn.ckpt\n",
            "336/336 [==============================] - 5s 16ms/step - loss: 6.4513 - MSE: 100.9652 - val_loss: 4.9869 - val_MSE: 58.7596\n",
            "Epoch 98/200\n",
            "332/336 [============================>.] - ETA: 0s - loss: 6.4165 - MSE: 99.1312\n",
            "Epoch 98: val_loss improved from 4.98694 to 4.96089, saving model to ./ckeckpointer_cnn.ckpt\n",
            "336/336 [==============================] - 5s 16ms/step - loss: 6.4255 - MSE: 100.0806 - val_loss: 4.9609 - val_MSE: 58.1199\n",
            "Epoch 99/200\n",
            "332/336 [============================>.] - ETA: 0s - loss: 6.3923 - MSE: 98.2735\n",
            "Epoch 99: val_loss improved from 4.96089 to 4.93606, saving model to ./ckeckpointer_cnn.ckpt\n",
            "336/336 [==============================] - 5s 16ms/step - loss: 6.4012 - MSE: 99.2119 - val_loss: 4.9361 - val_MSE: 57.5066\n",
            "Epoch 100/200\n",
            "333/336 [============================>.] - ETA: 0s - loss: 6.3650 - MSE: 97.2918\n",
            "Epoch 100: val_loss improved from 4.93606 to 4.91223, saving model to ./ckeckpointer_cnn.ckpt\n",
            "336/336 [==============================] - 5s 15ms/step - loss: 6.3772 - MSE: 98.3674 - val_loss: 4.9122 - val_MSE: 56.9167\n",
            "Epoch 101/200\n",
            "335/336 [============================>.] - ETA: 0s - loss: 6.3557 - MSE: 97.5866\n",
            "Epoch 101: val_loss improved from 4.91223 to 4.88912, saving model to ./ckeckpointer_cnn.ckpt\n",
            "336/336 [==============================] - 5s 16ms/step - loss: 6.3545 - MSE: 97.5543 - val_loss: 4.8891 - val_MSE: 56.3403\n",
            "Epoch 102/200\n",
            "335/336 [============================>.] - ETA: 0s - loss: 6.3343 - MSE: 96.8046\n",
            "Epoch 102: val_loss improved from 4.88912 to 4.86710, saving model to ./ckeckpointer_cnn.ckpt\n",
            "336/336 [==============================] - 7s 19ms/step - loss: 6.3331 - MSE: 96.7727 - val_loss: 4.8671 - val_MSE: 55.7948\n",
            "Epoch 103/200\n",
            "334/336 [============================>.] - ETA: 0s - loss: 6.3134 - MSE: 96.0851\n",
            "Epoch 103: val_loss improved from 4.86710 to 4.84601, saving model to ./ckeckpointer_cnn.ckpt\n",
            "336/336 [==============================] - 5s 15ms/step - loss: 6.3127 - MSE: 96.0208 - val_loss: 4.8460 - val_MSE: 55.2734\n",
            "Epoch 104/200\n",
            "335/336 [============================>.] - ETA: 0s - loss: 6.2939 - MSE: 95.3159\n",
            "Epoch 104: val_loss improved from 4.84601 to 4.82565, saving model to ./ckeckpointer_cnn.ckpt\n",
            "336/336 [==============================] - 5s 16ms/step - loss: 6.2927 - MSE: 95.2848 - val_loss: 4.8257 - val_MSE: 54.7716\n",
            "Epoch 105/200\n",
            "336/336 [==============================] - ETA: 0s - loss: 6.2743 - MSE: 94.5989\n",
            "Epoch 105: val_loss improved from 4.82565 to 4.80598, saving model to ./ckeckpointer_cnn.ckpt\n",
            "336/336 [==============================] - 5s 16ms/step - loss: 6.2743 - MSE: 94.5989 - val_loss: 4.8060 - val_MSE: 54.2869\n",
            "Epoch 106/200\n",
            "332/336 [============================>.] - ETA: 0s - loss: 6.2470 - MSE: 93.0521\n",
            "Epoch 106: val_loss improved from 4.80598 to 4.78727, saving model to ./ckeckpointer_cnn.ckpt\n",
            "336/336 [==============================] - 5s 15ms/step - loss: 6.2558 - MSE: 93.9205 - val_loss: 4.7873 - val_MSE: 53.8270\n",
            "Epoch 107/200\n",
            "333/336 [============================>.] - ETA: 0s - loss: 6.2269 - MSE: 92.3018\n",
            "Epoch 107: val_loss improved from 4.78727 to 4.76918, saving model to ./ckeckpointer_cnn.ckpt\n",
            "336/336 [==============================] - 5s 15ms/step - loss: 6.2388 - MSE: 93.2996 - val_loss: 4.7692 - val_MSE: 53.3861\n",
            "Epoch 108/200\n",
            "336/336 [==============================] - ETA: 0s - loss: 6.2218 - MSE: 92.6722\n",
            "Epoch 108: val_loss improved from 4.76918 to 4.75160, saving model to ./ckeckpointer_cnn.ckpt\n",
            "336/336 [==============================] - 5s 16ms/step - loss: 6.2218 - MSE: 92.6722 - val_loss: 4.7516 - val_MSE: 52.9512\n",
            "Epoch 109/200\n",
            "332/336 [============================>.] - ETA: 0s - loss: 6.1973 - MSE: 91.2488\n",
            "Epoch 109: val_loss improved from 4.75160 to 4.73526, saving model to ./ckeckpointer_cnn.ckpt\n",
            "336/336 [==============================] - 5s 15ms/step - loss: 6.2060 - MSE: 92.0871 - val_loss: 4.7353 - val_MSE: 52.5480\n",
            "Epoch 110/200\n",
            "334/336 [============================>.] - ETA: 0s - loss: 6.1916 - MSE: 91.5875\n",
            "Epoch 110: val_loss improved from 4.73526 to 4.71969, saving model to ./ckeckpointer_cnn.ckpt\n",
            "336/336 [==============================] - 7s 21ms/step - loss: 6.1911 - MSE: 91.5272 - val_loss: 4.7197 - val_MSE: 52.1629\n",
            "Epoch 111/200\n",
            "334/336 [============================>.] - ETA: 0s - loss: 6.1775 - MSE: 91.0470\n",
            "Epoch 111: val_loss improved from 4.71969 to 4.70499, saving model to ./ckeckpointer_cnn.ckpt\n",
            "336/336 [==============================] - 5s 15ms/step - loss: 6.1769 - MSE: 90.9871 - val_loss: 4.7050 - val_MSE: 51.7908\n",
            "Epoch 112/200\n",
            "334/336 [============================>.] - ETA: 0s - loss: 6.1634 - MSE: 90.5152\n",
            "Epoch 112: val_loss improved from 4.70499 to 4.69108, saving model to ./ckeckpointer_cnn.ckpt\n",
            "336/336 [==============================] - 5s 15ms/step - loss: 6.1629 - MSE: 90.4559 - val_loss: 4.6911 - val_MSE: 51.4303\n",
            "Epoch 113/200\n",
            "332/336 [============================>.] - ETA: 0s - loss: 6.1415 - MSE: 89.1455\n",
            "Epoch 113: val_loss improved from 4.69108 to 4.67783, saving model to ./ckeckpointer_cnn.ckpt\n",
            "336/336 [==============================] - 5s 16ms/step - loss: 6.1499 - MSE: 89.9477 - val_loss: 4.6778 - val_MSE: 51.0947\n",
            "Epoch 114/200\n",
            "335/336 [============================>.] - ETA: 0s - loss: 6.1381 - MSE: 89.4845\n",
            "Epoch 114: val_loss improved from 4.67783 to 4.66549, saving model to ./ckeckpointer_cnn.ckpt\n",
            "336/336 [==============================] - 5s 16ms/step - loss: 6.1370 - MSE: 89.4560 - val_loss: 4.6655 - val_MSE: 50.7690\n",
            "Epoch 115/200\n",
            "334/336 [============================>.] - ETA: 0s - loss: 6.1254 - MSE: 89.0373\n",
            "Epoch 115: val_loss improved from 4.66549 to 4.65331, saving model to ./ckeckpointer_cnn.ckpt\n",
            "336/336 [==============================] - 5s 15ms/step - loss: 6.1249 - MSE: 88.9796 - val_loss: 4.6533 - val_MSE: 50.4525\n",
            "Epoch 116/200\n",
            "335/336 [============================>.] - ETA: 0s - loss: 6.1142 - MSE: 88.5521\n",
            "Epoch 116: val_loss improved from 4.65331 to 4.64207, saving model to ./ckeckpointer_cnn.ckpt\n",
            "336/336 [==============================] - 5s 16ms/step - loss: 6.1132 - MSE: 88.5241 - val_loss: 4.6421 - val_MSE: 50.1567\n",
            "Epoch 117/200\n",
            "332/336 [============================>.] - ETA: 0s - loss: 6.0941 - MSE: 87.3184\n",
            "Epoch 117: val_loss improved from 4.64207 to 4.63146, saving model to ./ckeckpointer_cnn.ckpt\n",
            "336/336 [==============================] - 5s 16ms/step - loss: 6.1023 - MSE: 88.0894 - val_loss: 4.6315 - val_MSE: 49.8700\n",
            "Epoch 118/200\n",
            "334/336 [============================>.] - ETA: 0s - loss: 6.0923 - MSE: 87.7222\n",
            "Epoch 118: val_loss improved from 4.63146 to 4.62112, saving model to ./ckeckpointer_cnn.ckpt\n",
            "336/336 [==============================] - 7s 20ms/step - loss: 6.0918 - MSE: 87.6658 - val_loss: 4.6211 - val_MSE: 49.5970\n",
            "Epoch 119/200\n",
            "332/336 [============================>.] - ETA: 0s - loss: 6.0729 - MSE: 86.4878\n",
            "Epoch 119: val_loss improved from 4.62112 to 4.61153, saving model to ./ckeckpointer_cnn.ckpt\n",
            "336/336 [==============================] - 5s 16ms/step - loss: 6.0811 - MSE: 87.2445 - val_loss: 4.6115 - val_MSE: 49.3285\n",
            "Epoch 120/200\n",
            "335/336 [============================>.] - ETA: 0s - loss: 6.0724 - MSE: 86.8713\n",
            "Epoch 120: val_loss improved from 4.61153 to 4.60147, saving model to ./ckeckpointer_cnn.ckpt\n",
            "336/336 [==============================] - 5s 16ms/step - loss: 6.0713 - MSE: 86.8441 - val_loss: 4.6015 - val_MSE: 49.0651\n",
            "Epoch 121/200\n",
            "332/336 [============================>.] - ETA: 0s - loss: 6.0535 - MSE: 85.7147\n",
            "Epoch 121: val_loss improved from 4.60147 to 4.59257, saving model to ./ckeckpointer_cnn.ckpt\n",
            "336/336 [==============================] - 5s 16ms/step - loss: 6.0616 - MSE: 86.4566 - val_loss: 4.5926 - val_MSE: 48.8219\n",
            "Epoch 122/200\n",
            "332/336 [============================>.] - ETA: 0s - loss: 6.0439 - MSE: 85.3366\n",
            "Epoch 122: val_loss improved from 4.59257 to 4.58352, saving model to ./ckeckpointer_cnn.ckpt\n",
            "336/336 [==============================] - 5s 16ms/step - loss: 6.0519 - MSE: 86.0712 - val_loss: 4.5835 - val_MSE: 48.5847\n",
            "Epoch 123/200\n",
            "332/336 [============================>.] - ETA: 0s - loss: 6.0352 - MSE: 84.9915\n",
            "Epoch 123: val_loss improved from 4.58352 to 4.57492, saving model to ./ckeckpointer_cnn.ckpt\n",
            "336/336 [==============================] - 5s 16ms/step - loss: 6.0432 - MSE: 85.7191 - val_loss: 4.5749 - val_MSE: 48.3557\n",
            "Epoch 124/200\n",
            "335/336 [============================>.] - ETA: 0s - loss: 6.0356 - MSE: 85.4024\n",
            "Epoch 124: val_loss improved from 4.57492 to 4.56618, saving model to ./ckeckpointer_cnn.ckpt\n",
            "336/336 [==============================] - 5s 16ms/step - loss: 6.0346 - MSE: 85.3759 - val_loss: 4.5662 - val_MSE: 48.1295\n",
            "Epoch 125/200\n",
            "333/336 [============================>.] - ETA: 0s - loss: 6.0153 - MSE: 84.2062\n",
            "Epoch 125: val_loss improved from 4.56618 to 4.55791, saving model to ./ckeckpointer_cnn.ckpt\n",
            "336/336 [==============================] - 5s 16ms/step - loss: 6.0264 - MSE: 85.0474 - val_loss: 4.5579 - val_MSE: 47.9121\n",
            "Epoch 126/200\n",
            "334/336 [============================>.] - ETA: 0s - loss: 6.0188 - MSE: 84.7829\n",
            "Epoch 126: val_loss improved from 4.55791 to 4.55048, saving model to ./ckeckpointer_cnn.ckpt\n",
            "336/336 [==============================] - 7s 21ms/step - loss: 6.0184 - MSE: 84.7291 - val_loss: 4.5505 - val_MSE: 47.7105\n",
            "Epoch 127/200\n",
            "336/336 [==============================] - ETA: 0s - loss: 6.0110 - MSE: 84.4233\n",
            "Epoch 127: val_loss improved from 4.55048 to 4.54346, saving model to ./ckeckpointer_cnn.ckpt\n",
            "336/336 [==============================] - 5s 16ms/step - loss: 6.0110 - MSE: 84.4233 - val_loss: 4.5435 - val_MSE: 47.5193\n",
            "Epoch 128/200\n",
            "334/336 [============================>.] - ETA: 0s - loss: 6.0047 - MSE: 84.1889\n",
            "Epoch 128: val_loss improved from 4.54346 to 4.53697, saving model to ./ckeckpointer_cnn.ckpt\n",
            "336/336 [==============================] - 5s 16ms/step - loss: 6.0043 - MSE: 84.1349 - val_loss: 4.5370 - val_MSE: 47.3446\n",
            "Epoch 129/200\n",
            "335/336 [============================>.] - ETA: 0s - loss: 5.9977 - MSE: 83.8748\n",
            "Epoch 129: val_loss improved from 4.53697 to 4.53044, saving model to ./ckeckpointer_cnn.ckpt\n",
            "336/336 [==============================] - 5s 16ms/step - loss: 5.9968 - MSE: 83.8489 - val_loss: 4.5304 - val_MSE: 47.1693\n",
            "Epoch 130/200\n",
            "334/336 [============================>.] - ETA: 0s - loss: 5.9908 - MSE: 83.6407\n",
            "Epoch 130: val_loss improved from 4.53044 to 4.52382, saving model to ./ckeckpointer_cnn.ckpt\n",
            "336/336 [==============================] - 5s 16ms/step - loss: 5.9903 - MSE: 83.5868 - val_loss: 4.5238 - val_MSE: 46.9957\n",
            "Epoch 131/200\n",
            "335/336 [============================>.] - ETA: 0s - loss: 5.9844 - MSE: 83.3525\n",
            "Epoch 131: val_loss improved from 4.52382 to 4.51798, saving model to ./ckeckpointer_cnn.ckpt\n",
            "336/336 [==============================] - 5s 16ms/step - loss: 5.9834 - MSE: 83.3269 - val_loss: 4.5180 - val_MSE: 46.8405\n",
            "Epoch 132/200\n",
            "334/336 [============================>.] - ETA: 0s - loss: 5.9781 - MSE: 83.1388\n",
            "Epoch 132: val_loss improved from 4.51798 to 4.51212, saving model to ./ckeckpointer_cnn.ckpt\n",
            "336/336 [==============================] - 7s 20ms/step - loss: 5.9777 - MSE: 83.0851 - val_loss: 4.5121 - val_MSE: 46.6846\n",
            "Epoch 133/200\n",
            "335/336 [============================>.] - ETA: 0s - loss: 5.9728 - MSE: 82.8767\n",
            "Epoch 133: val_loss improved from 4.51212 to 4.50677, saving model to ./ckeckpointer_cnn.ckpt\n",
            "336/336 [==============================] - 5s 16ms/step - loss: 5.9719 - MSE: 82.8512 - val_loss: 4.5068 - val_MSE: 46.5416\n",
            "Epoch 134/200\n",
            "334/336 [============================>.] - ETA: 0s - loss: 5.9667 - MSE: 82.6838\n",
            "Epoch 134: val_loss improved from 4.50677 to 4.50172, saving model to ./ckeckpointer_cnn.ckpt\n",
            "336/336 [==============================] - 6s 16ms/step - loss: 5.9662 - MSE: 82.6299 - val_loss: 4.5017 - val_MSE: 46.4025\n",
            "Epoch 135/200\n",
            "332/336 [============================>.] - ETA: 0s - loss: 5.9538 - MSE: 81.7552\n",
            "Epoch 135: val_loss improved from 4.50172 to 4.49647, saving model to ./ckeckpointer_cnn.ckpt\n",
            "336/336 [==============================] - 5s 16ms/step - loss: 5.9608 - MSE: 82.4086 - val_loss: 4.4965 - val_MSE: 46.2595\n",
            "Epoch 136/200\n",
            "335/336 [============================>.] - ETA: 0s - loss: 5.9566 - MSE: 82.2200\n",
            "Epoch 136: val_loss improved from 4.49647 to 4.49160, saving model to ./ckeckpointer_cnn.ckpt\n",
            "336/336 [==============================] - 5s 16ms/step - loss: 5.9556 - MSE: 82.1949 - val_loss: 4.4916 - val_MSE: 46.1259\n",
            "Epoch 137/200\n",
            "332/336 [============================>.] - ETA: 0s - loss: 5.9439 - MSE: 81.3507\n",
            "Epoch 137: val_loss improved from 4.49160 to 4.48676, saving model to ./ckeckpointer_cnn.ckpt\n",
            "336/336 [==============================] - 5s 16ms/step - loss: 5.9508 - MSE: 81.9936 - val_loss: 4.4868 - val_MSE: 45.9983\n",
            "Epoch 138/200\n",
            "334/336 [============================>.] - ETA: 0s - loss: 5.9467 - MSE: 81.8619\n",
            "Epoch 138: val_loss improved from 4.48676 to 4.48232, saving model to ./ckeckpointer_cnn.ckpt\n",
            "336/336 [==============================] - 5s 16ms/step - loss: 5.9461 - MSE: 81.8078 - val_loss: 4.4823 - val_MSE: 45.8760\n",
            "Epoch 139/200\n",
            "335/336 [============================>.] - ETA: 0s - loss: 5.9426 - MSE: 81.6437\n",
            "Epoch 139: val_loss improved from 4.48232 to 4.47838, saving model to ./ckeckpointer_cnn.ckpt\n",
            "336/336 [==============================] - 6s 17ms/step - loss: 5.9417 - MSE: 81.6189 - val_loss: 4.4784 - val_MSE: 45.7642\n",
            "Epoch 140/200\n",
            "334/336 [============================>.] - ETA: 0s - loss: 5.9377 - MSE: 81.4873\n",
            "Epoch 140: val_loss improved from 4.47838 to 4.47455, saving model to ./ckeckpointer_cnn.ckpt\n",
            "336/336 [==============================] - 5s 16ms/step - loss: 5.9371 - MSE: 81.4331 - val_loss: 4.4746 - val_MSE: 45.6556\n",
            "Epoch 141/200\n",
            "334/336 [============================>.] - ETA: 0s - loss: 5.9334 - MSE: 81.3040\n",
            "Epoch 141: val_loss improved from 4.47455 to 4.47037, saving model to ./ckeckpointer_cnn.ckpt\n",
            "336/336 [==============================] - 5s 16ms/step - loss: 5.9328 - MSE: 81.2496 - val_loss: 4.4704 - val_MSE: 45.5449\n",
            "Epoch 142/200\n",
            "332/336 [============================>.] - ETA: 0s - loss: 5.9217 - MSE: 80.4510\n",
            "Epoch 142: val_loss improved from 4.47037 to 4.46683, saving model to ./ckeckpointer_cnn.ckpt\n",
            "336/336 [==============================] - 5s 16ms/step - loss: 5.9283 - MSE: 81.0712 - val_loss: 4.4668 - val_MSE: 45.4445\n",
            "Epoch 143/200\n",
            "332/336 [============================>.] - ETA: 0s - loss: 5.9178 - MSE: 80.2897\n",
            "Epoch 143: val_loss improved from 4.46683 to 4.46348, saving model to ./ckeckpointer_cnn.ckpt\n",
            "336/336 [==============================] - 6s 17ms/step - loss: 5.9243 - MSE: 80.9056 - val_loss: 4.4635 - val_MSE: 45.3501\n",
            "Epoch 144/200\n",
            "333/336 [============================>.] - ETA: 0s - loss: 5.9103 - MSE: 80.0089\n",
            "Epoch 144: val_loss improved from 4.46348 to 4.46046, saving model to ./ckeckpointer_cnn.ckpt\n",
            "336/336 [==============================] - 6s 17ms/step - loss: 5.9202 - MSE: 80.7427 - val_loss: 4.4605 - val_MSE: 45.2626\n",
            "Epoch 145/200\n",
            "335/336 [============================>.] - ETA: 0s - loss: 5.9175 - MSE: 80.6181\n",
            "Epoch 145: val_loss improved from 4.46046 to 4.45748, saving model to ./ckeckpointer_cnn.ckpt\n",
            "336/336 [==============================] - 6s 17ms/step - loss: 5.9166 - MSE: 80.5940 - val_loss: 4.4575 - val_MSE: 45.1760\n",
            "Epoch 146/200\n",
            "334/336 [============================>.] - ETA: 0s - loss: 5.9136 - MSE: 80.4972\n",
            "Epoch 146: val_loss improved from 4.45748 to 4.45491, saving model to ./ckeckpointer_cnn.ckpt\n",
            "336/336 [==============================] - 5s 16ms/step - loss: 5.9129 - MSE: 80.4425 - val_loss: 4.4549 - val_MSE: 45.0985\n",
            "Epoch 147/200\n",
            "334/336 [============================>.] - ETA: 0s - loss: 5.9098 - MSE: 80.3484\n",
            "Epoch 147: val_loss improved from 4.45491 to 4.45219, saving model to ./ckeckpointer_cnn.ckpt\n",
            "336/336 [==============================] - 5s 16ms/step - loss: 5.9091 - MSE: 80.2937 - val_loss: 4.4522 - val_MSE: 45.0197\n",
            "Epoch 148/200\n",
            "335/336 [============================>.] - ETA: 0s - loss: 5.9065 - MSE: 80.1741\n",
            "Epoch 148: val_loss improved from 4.45219 to 4.44946, saving model to ./ckeckpointer_cnn.ckpt\n",
            "336/336 [==============================] - 6s 17ms/step - loss: 5.9056 - MSE: 80.1503 - val_loss: 4.4495 - val_MSE: 44.9427\n",
            "Epoch 149/200\n",
            "332/336 [============================>.] - ETA: 0s - loss: 5.8961 - MSE: 79.4206\n",
            "Epoch 149: val_loss improved from 4.44946 to 4.44671, saving model to ./ckeckpointer_cnn.ckpt\n",
            "336/336 [==============================] - 6s 16ms/step - loss: 5.9023 - MSE: 80.0136 - val_loss: 4.4467 - val_MSE: 44.8656\n",
            "Epoch 150/200\n",
            "335/336 [============================>.] - ETA: 0s - loss: 5.8995 - MSE: 79.8957\n",
            "Epoch 150: val_loss improved from 4.44671 to 4.44395, saving model to ./ckeckpointer_cnn.ckpt\n",
            "336/336 [==============================] - 6s 16ms/step - loss: 5.8986 - MSE: 79.8720 - val_loss: 4.4439 - val_MSE: 44.7903\n",
            "Epoch 151/200\n",
            "333/336 [============================>.] - ETA: 0s - loss: 5.8864 - MSE: 79.0449\n",
            "Epoch 151: val_loss improved from 4.44395 to 4.44179, saving model to ./ckeckpointer_cnn.ckpt\n",
            "336/336 [==============================] - 5s 16ms/step - loss: 5.8959 - MSE: 79.7513 - val_loss: 4.4418 - val_MSE: 44.7264\n",
            "Epoch 152/200\n",
            "332/336 [============================>.] - ETA: 0s - loss: 5.8866 - MSE: 79.0394\n",
            "Epoch 152: val_loss improved from 4.44179 to 4.43940, saving model to ./ckeckpointer_cnn.ckpt\n",
            "336/336 [==============================] - 5s 16ms/step - loss: 5.8926 - MSE: 79.6218 - val_loss: 4.4394 - val_MSE: 44.6584\n",
            "Epoch 153/200\n",
            "334/336 [============================>.] - ETA: 0s - loss: 5.8902 - MSE: 79.5516\n",
            "Epoch 153: val_loss improved from 4.43940 to 4.43760, saving model to ./ckeckpointer_cnn.ckpt\n",
            "336/336 [==============================] - 5s 16ms/step - loss: 5.8895 - MSE: 79.4963 - val_loss: 4.4376 - val_MSE: 44.6002\n",
            "Epoch 154/200\n",
            "336/336 [==============================] - ETA: 0s - loss: 5.8864 - MSE: 79.3734\n",
            "Epoch 154: val_loss improved from 4.43760 to 4.43511, saving model to ./ckeckpointer_cnn.ckpt\n",
            "336/336 [==============================] - 6s 16ms/step - loss: 5.8864 - MSE: 79.3734 - val_loss: 4.4351 - val_MSE: 44.5311\n",
            "Epoch 155/200\n",
            "335/336 [============================>.] - ETA: 0s - loss: 5.8843 - MSE: 79.2792\n",
            "Epoch 155: val_loss improved from 4.43511 to 4.43285, saving model to ./ckeckpointer_cnn.ckpt\n",
            "336/336 [==============================] - 7s 19ms/step - loss: 5.8834 - MSE: 79.2561 - val_loss: 4.4328 - val_MSE: 44.4669\n",
            "Epoch 156/200\n",
            "334/336 [============================>.] - ETA: 0s - loss: 5.8812 - MSE: 79.1943\n",
            "Epoch 156: val_loss improved from 4.43285 to 4.43050, saving model to ./ckeckpointer_cnn.ckpt\n",
            "336/336 [==============================] - 5s 16ms/step - loss: 5.8804 - MSE: 79.1387 - val_loss: 4.4305 - val_MSE: 44.4017\n",
            "Epoch 157/200\n",
            "333/336 [============================>.] - ETA: 0s - loss: 5.8683 - MSE: 78.3388\n",
            "Epoch 157: val_loss improved from 4.43050 to 4.42833, saving model to ./ckeckpointer_cnn.ckpt\n",
            "336/336 [==============================] - 5s 16ms/step - loss: 5.8775 - MSE: 79.0249 - val_loss: 4.4283 - val_MSE: 44.3394\n",
            "Epoch 158/200\n",
            "332/336 [============================>.] - ETA: 0s - loss: 5.8690 - MSE: 78.3489\n",
            "Epoch 158: val_loss improved from 4.42833 to 4.42595, saving model to ./ckeckpointer_cnn.ckpt\n",
            "336/336 [==============================] - 5s 16ms/step - loss: 5.8746 - MSE: 78.9124 - val_loss: 4.4260 - val_MSE: 44.2760\n",
            "Epoch 159/200\n",
            "333/336 [============================>.] - ETA: 0s - loss: 5.8628 - MSE: 78.1292\n",
            "Epoch 159: val_loss improved from 4.42595 to 4.42373, saving model to ./ckeckpointer_cnn.ckpt\n",
            "336/336 [==============================] - 6s 16ms/step - loss: 5.8719 - MSE: 78.8087 - val_loss: 4.4237 - val_MSE: 44.2149\n",
            "Epoch 160/200\n",
            "333/336 [============================>.] - ETA: 0s - loss: 5.8596 - MSE: 78.0223\n",
            "Epoch 160: val_loss improved from 4.42373 to 4.42173, saving model to ./ckeckpointer_cnn.ckpt\n",
            "336/336 [==============================] - 6s 17ms/step - loss: 5.8687 - MSE: 78.6989 - val_loss: 4.4217 - val_MSE: 44.1588\n",
            "Epoch 161/200\n",
            "335/336 [============================>.] - ETA: 0s - loss: 5.8671 - MSE: 78.6215\n",
            "Epoch 161: val_loss improved from 4.42173 to 4.41959, saving model to ./ckeckpointer_cnn.ckpt\n",
            "336/336 [==============================] - 6s 17ms/step - loss: 5.8663 - MSE: 78.5988 - val_loss: 4.4196 - val_MSE: 44.1008\n",
            "Epoch 162/200\n",
            "333/336 [============================>.] - ETA: 0s - loss: 5.8546 - MSE: 77.8261\n",
            "Epoch 162: val_loss improved from 4.41959 to 4.41747, saving model to ./ckeckpointer_cnn.ckpt\n",
            "336/336 [==============================] - 6s 16ms/step - loss: 5.8636 - MSE: 78.4966 - val_loss: 4.4175 - val_MSE: 44.0447\n",
            "Epoch 163/200\n",
            "334/336 [============================>.] - ETA: 0s - loss: 5.8617 - MSE: 78.4525\n",
            "Epoch 163: val_loss improved from 4.41747 to 4.41524, saving model to ./ckeckpointer_cnn.ckpt\n",
            "336/336 [==============================] - 7s 22ms/step - loss: 5.8609 - MSE: 78.3966 - val_loss: 4.4152 - val_MSE: 43.9866\n",
            "Epoch 164/200\n",
            "333/336 [============================>.] - ETA: 0s - loss: 5.8494 - MSE: 77.6342\n",
            "Epoch 164: val_loss improved from 4.41524 to 4.41298, saving model to ./ckeckpointer_cnn.ckpt\n",
            "336/336 [==============================] - 5s 16ms/step - loss: 5.8583 - MSE: 78.2986 - val_loss: 4.4130 - val_MSE: 43.9278\n",
            "Epoch 165/200\n",
            "334/336 [============================>.] - ETA: 0s - loss: 5.8568 - MSE: 78.2588\n",
            "Epoch 165: val_loss improved from 4.41298 to 4.41095, saving model to ./ckeckpointer_cnn.ckpt\n",
            "336/336 [==============================] - 5s 16ms/step - loss: 5.8559 - MSE: 78.2030 - val_loss: 4.4109 - val_MSE: 43.8728\n",
            "Epoch 166/200\n",
            "336/336 [==============================] - ETA: 0s - loss: 5.8535 - MSE: 78.1071\n",
            "Epoch 166: val_loss improved from 4.41095 to 4.40904, saving model to ./ckeckpointer_cnn.ckpt\n",
            "336/336 [==============================] - 5s 16ms/step - loss: 5.8535 - MSE: 78.1071 - val_loss: 4.4090 - val_MSE: 43.8199\n",
            "Epoch 167/200\n",
            "334/336 [============================>.] - ETA: 0s - loss: 5.8521 - MSE: 78.0699\n",
            "Epoch 167: val_loss improved from 4.40904 to 4.40750, saving model to ./ckeckpointer_cnn.ckpt\n",
            "336/336 [==============================] - 6s 17ms/step - loss: 5.8511 - MSE: 78.0140 - val_loss: 4.4075 - val_MSE: 43.7742\n",
            "Epoch 168/200\n",
            "335/336 [============================>.] - ETA: 0s - loss: 5.8497 - MSE: 77.9451\n",
            "Epoch 168: val_loss improved from 4.40750 to 4.40593, saving model to ./ckeckpointer_cnn.ckpt\n",
            "336/336 [==============================] - 6s 17ms/step - loss: 5.8488 - MSE: 77.9230 - val_loss: 4.4059 - val_MSE: 43.7281\n",
            "Epoch 169/200\n",
            "335/336 [============================>.] - ETA: 0s - loss: 5.8474 - MSE: 77.8545\n",
            "Epoch 169: val_loss improved from 4.40593 to 4.40421, saving model to ./ckeckpointer_cnn.ckpt\n",
            "336/336 [==============================] - 5s 16ms/step - loss: 5.8465 - MSE: 77.8325 - val_loss: 4.4042 - val_MSE: 43.6805\n",
            "Epoch 170/200\n",
            "334/336 [============================>.] - ETA: 0s - loss: 5.8455 - MSE: 77.8084\n",
            "Epoch 170: val_loss improved from 4.40421 to 4.40290, saving model to ./ckeckpointer_cnn.ckpt\n",
            "336/336 [==============================] - 6s 19ms/step - loss: 5.8446 - MSE: 77.7527 - val_loss: 4.4029 - val_MSE: 43.6391\n",
            "Epoch 171/200\n",
            "334/336 [============================>.] - ETA: 0s - loss: 5.8434 - MSE: 77.7255\n",
            "Epoch 171: val_loss improved from 4.40290 to 4.40119, saving model to ./ckeckpointer_cnn.ckpt\n",
            "336/336 [==============================] - 6s 17ms/step - loss: 5.8425 - MSE: 77.6698 - val_loss: 4.4012 - val_MSE: 43.5941\n",
            "Epoch 172/200\n",
            "334/336 [============================>.] - ETA: 0s - loss: 5.8412 - MSE: 77.6436\n",
            "Epoch 172: val_loss improved from 4.40119 to 4.39998, saving model to ./ckeckpointer_cnn.ckpt\n",
            "336/336 [==============================] - 5s 16ms/step - loss: 5.8403 - MSE: 77.5880 - val_loss: 4.4000 - val_MSE: 43.5573\n",
            "Epoch 173/200\n",
            "334/336 [============================>.] - ETA: 0s - loss: 5.8393 - MSE: 77.5601\n",
            "Epoch 173: val_loss improved from 4.39998 to 4.39861, saving model to ./ckeckpointer_cnn.ckpt\n",
            "336/336 [==============================] - 6s 17ms/step - loss: 5.8383 - MSE: 77.5044 - val_loss: 4.3986 - val_MSE: 43.5184\n",
            "Epoch 174/200\n",
            "334/336 [============================>.] - ETA: 0s - loss: 5.8374 - MSE: 77.4851\n",
            "Epoch 174: val_loss improved from 4.39861 to 4.39712, saving model to ./ckeckpointer_cnn.ckpt\n",
            "336/336 [==============================] - 6s 17ms/step - loss: 5.8364 - MSE: 77.4296 - val_loss: 4.3971 - val_MSE: 43.4774\n",
            "Epoch 175/200\n",
            "333/336 [============================>.] - ETA: 0s - loss: 5.8260 - MSE: 76.7176\n",
            "Epoch 175: val_loss improved from 4.39712 to 4.39583, saving model to ./ckeckpointer_cnn.ckpt\n",
            "336/336 [==============================] - 6s 17ms/step - loss: 5.8345 - MSE: 77.3545 - val_loss: 4.3958 - val_MSE: 43.4410\n",
            "Epoch 176/200\n",
            "335/336 [============================>.] - ETA: 0s - loss: 5.8331 - MSE: 77.2962\n",
            "Epoch 176: val_loss improved from 4.39583 to 4.39406, saving model to ./ckeckpointer_cnn.ckpt\n",
            "336/336 [==============================] - 6s 17ms/step - loss: 5.8322 - MSE: 77.2746 - val_loss: 4.3941 - val_MSE: 43.3989\n",
            "Epoch 177/200\n",
            "336/336 [==============================] - ETA: 0s - loss: 5.8304 - MSE: 77.2054\n",
            "Epoch 177: val_loss improved from 4.39406 to 4.39306, saving model to ./ckeckpointer_cnn.ckpt\n",
            "336/336 [==============================] - 6s 17ms/step - loss: 5.8304 - MSE: 77.2054 - val_loss: 4.3931 - val_MSE: 43.3680\n",
            "Epoch 178/200\n",
            "332/336 [============================>.] - ETA: 0s - loss: 5.8239 - MSE: 76.6229\n",
            "Epoch 178: val_loss improved from 4.39306 to 4.39166, saving model to ./ckeckpointer_cnn.ckpt\n",
            "336/336 [==============================] - 6s 17ms/step - loss: 5.8286 - MSE: 77.1363 - val_loss: 4.3917 - val_MSE: 43.3312\n",
            "Epoch 179/200\n",
            "332/336 [============================>.] - ETA: 0s - loss: 5.8221 - MSE: 76.5563\n",
            "Epoch 179: val_loss improved from 4.39166 to 4.39047, saving model to ./ckeckpointer_cnn.ckpt\n",
            "336/336 [==============================] - 6s 17ms/step - loss: 5.8268 - MSE: 77.0677 - val_loss: 4.3905 - val_MSE: 43.2977\n",
            "Epoch 180/200\n",
            "334/336 [============================>.] - ETA: 0s - loss: 5.8260 - MSE: 77.0587\n",
            "Epoch 180: val_loss improved from 4.39047 to 4.38950, saving model to ./ckeckpointer_cnn.ckpt\n",
            "336/336 [==============================] - 6s 17ms/step - loss: 5.8250 - MSE: 77.0029 - val_loss: 4.3895 - val_MSE: 43.2699\n",
            "Epoch 181/200\n",
            "332/336 [============================>.] - ETA: 0s - loss: 5.8187 - MSE: 76.4293\n",
            "Epoch 181: val_loss improved from 4.38950 to 4.38865, saving model to ./ckeckpointer_cnn.ckpt\n",
            "336/336 [==============================] - 6s 17ms/step - loss: 5.8233 - MSE: 76.9371 - val_loss: 4.3887 - val_MSE: 43.2435\n",
            "Epoch 182/200\n",
            "331/336 [============================>.] - ETA: 0s - loss: 5.8202 - MSE: 76.4796\n",
            "Epoch 182: val_loss improved from 4.38865 to 4.38763, saving model to ./ckeckpointer_cnn.ckpt\n",
            "336/336 [==============================] - 6s 16ms/step - loss: 5.8218 - MSE: 76.8769 - val_loss: 4.3876 - val_MSE: 43.2146\n",
            "Epoch 183/200\n",
            "334/336 [============================>.] - ETA: 0s - loss: 5.8214 - MSE: 76.8760\n",
            "Epoch 183: val_loss improved from 4.38763 to 4.38658, saving model to ./ckeckpointer_cnn.ckpt\n",
            "336/336 [==============================] - 6s 17ms/step - loss: 5.8204 - MSE: 76.8205 - val_loss: 4.3866 - val_MSE: 43.1847\n",
            "Epoch 184/200\n",
            "332/336 [============================>.] - ETA: 0s - loss: 5.8146 - MSE: 76.2579\n",
            "Epoch 184: val_loss improved from 4.38658 to 4.38519, saving model to ./ckeckpointer_cnn.ckpt\n",
            "336/336 [==============================] - 6s 17ms/step - loss: 5.8191 - MSE: 76.7605 - val_loss: 4.3852 - val_MSE: 43.1506\n",
            "Epoch 185/200\n",
            "334/336 [============================>.] - ETA: 0s - loss: 5.8184 - MSE: 76.7515\n",
            "Epoch 185: val_loss improved from 4.38519 to 4.38408, saving model to ./ckeckpointer_cnn.ckpt\n",
            "336/336 [==============================] - 6s 18ms/step - loss: 5.8174 - MSE: 76.6961 - val_loss: 4.3841 - val_MSE: 43.1212\n",
            "Epoch 186/200\n",
            "334/336 [============================>.] - ETA: 0s - loss: 5.8167 - MSE: 76.6905\n",
            "Epoch 186: val_loss improved from 4.38408 to 4.38301, saving model to ./ckeckpointer_cnn.ckpt\n",
            "336/336 [==============================] - 6s 16ms/step - loss: 5.8157 - MSE: 76.6351 - val_loss: 4.3830 - val_MSE: 43.0924\n",
            "Epoch 187/200\n",
            "335/336 [============================>.] - ETA: 0s - loss: 5.8151 - MSE: 76.5965\n",
            "Epoch 187: val_loss improved from 4.38301 to 4.38183, saving model to ./ckeckpointer_cnn.ckpt\n",
            "336/336 [==============================] - 6s 17ms/step - loss: 5.8143 - MSE: 76.5758 - val_loss: 4.3818 - val_MSE: 43.0620\n",
            "Epoch 188/200\n",
            "332/336 [============================>.] - ETA: 0s - loss: 5.8085 - MSE: 76.0247\n",
            "Epoch 188: val_loss improved from 4.38183 to 4.38077, saving model to ./ckeckpointer_cnn.ckpt\n",
            "336/336 [==============================] - 6s 17ms/step - loss: 5.8129 - MSE: 76.5209 - val_loss: 4.3808 - val_MSE: 43.0338\n",
            "Epoch 189/200\n",
            "333/336 [============================>.] - ETA: 0s - loss: 5.8037 - MSE: 75.8598\n",
            "Epoch 189: val_loss improved from 4.38077 to 4.37974, saving model to ./ckeckpointer_cnn.ckpt\n",
            "336/336 [==============================] - 6s 17ms/step - loss: 5.8118 - MSE: 76.4695 - val_loss: 4.3797 - val_MSE: 43.0063\n",
            "Epoch 190/200\n",
            "333/336 [============================>.] - ETA: 0s - loss: 5.8022 - MSE: 75.8046\n",
            "Epoch 190: val_loss improved from 4.37974 to 4.37944, saving model to ./ckeckpointer_cnn.ckpt\n",
            "336/336 [==============================] - 6s 17ms/step - loss: 5.8102 - MSE: 76.4128 - val_loss: 4.3794 - val_MSE: 42.9901\n",
            "Epoch 191/200\n",
            "334/336 [============================>.] - ETA: 0s - loss: 5.8102 - MSE: 76.4203\n",
            "Epoch 191: val_loss improved from 4.37944 to 4.37816, saving model to ./ckeckpointer_cnn.ckpt\n",
            "336/336 [==============================] - 6s 17ms/step - loss: 5.8092 - MSE: 76.3654 - val_loss: 4.3782 - val_MSE: 42.9598\n",
            "Epoch 192/200\n",
            "336/336 [==============================] - ETA: 0s - loss: 5.8076 - MSE: 76.3088\n",
            "Epoch 192: val_loss improved from 4.37816 to 4.37745, saving model to ./ckeckpointer_cnn.ckpt\n",
            "336/336 [==============================] - 6s 19ms/step - loss: 5.8076 - MSE: 76.3088 - val_loss: 4.3774 - val_MSE: 42.9379\n",
            "Epoch 193/200\n",
            "336/336 [==============================] - ETA: 0s - loss: 5.8066 - MSE: 76.2616\n",
            "Epoch 193: val_loss improved from 4.37745 to 4.37694, saving model to ./ckeckpointer_cnn.ckpt\n",
            "336/336 [==============================] - 6s 16ms/step - loss: 5.8066 - MSE: 76.2616 - val_loss: 4.3769 - val_MSE: 42.9198\n",
            "Epoch 194/200\n",
            "334/336 [============================>.] - ETA: 0s - loss: 5.8063 - MSE: 76.2645\n",
            "Epoch 194: val_loss improved from 4.37694 to 4.37637, saving model to ./ckeckpointer_cnn.ckpt\n",
            "336/336 [==============================] - 5s 16ms/step - loss: 5.8053 - MSE: 76.2097 - val_loss: 4.3764 - val_MSE: 42.9006\n",
            "Epoch 195/200\n",
            "334/336 [============================>.] - ETA: 0s - loss: 5.8050 - MSE: 76.2135\n",
            "Epoch 195: val_loss improved from 4.37637 to 4.37532, saving model to ./ckeckpointer_cnn.ckpt\n",
            "336/336 [==============================] - 6s 17ms/step - loss: 5.8040 - MSE: 76.1588 - val_loss: 4.3753 - val_MSE: 42.8742\n",
            "Epoch 196/200\n",
            "333/336 [============================>.] - ETA: 0s - loss: 5.7948 - MSE: 75.5121\n",
            "Epoch 196: val_loss improved from 4.37532 to 4.37423, saving model to ./ckeckpointer_cnn.ckpt\n",
            "336/336 [==============================] - 6s 16ms/step - loss: 5.8028 - MSE: 76.1107 - val_loss: 4.3742 - val_MSE: 42.8485\n",
            "Epoch 197/200\n",
            "333/336 [============================>.] - ETA: 0s - loss: 5.7938 - MSE: 75.4678\n",
            "Epoch 197: val_loss improved from 4.37423 to 4.37318, saving model to ./ckeckpointer_cnn.ckpt\n",
            "336/336 [==============================] - 6s 17ms/step - loss: 5.8017 - MSE: 76.0649 - val_loss: 4.3732 - val_MSE: 42.8232\n",
            "Epoch 198/200\n",
            "332/336 [============================>.] - ETA: 0s - loss: 5.7964 - MSE: 75.5367\n",
            "Epoch 198: val_loss improved from 4.37318 to 4.37239, saving model to ./ckeckpointer_cnn.ckpt\n",
            "336/336 [==============================] - 6s 17ms/step - loss: 5.8006 - MSE: 76.0182 - val_loss: 4.3724 - val_MSE: 42.8019\n",
            "Epoch 199/200\n",
            "335/336 [============================>.] - ETA: 0s - loss: 5.8004 - MSE: 75.9952\n",
            "Epoch 199: val_loss improved from 4.37239 to 4.37163, saving model to ./ckeckpointer_cnn.ckpt\n",
            "336/336 [==============================] - 6s 17ms/step - loss: 5.7996 - MSE: 75.9752 - val_loss: 4.3716 - val_MSE: 42.7813\n",
            "Epoch 200/200\n",
            "335/336 [============================>.] - ETA: 0s - loss: 5.7991 - MSE: 75.9476\n",
            "Epoch 200: val_loss improved from 4.37163 to 4.37098, saving model to ./ckeckpointer_cnn.ckpt\n",
            "336/336 [==============================] - 6s 17ms/step - loss: 5.7983 - MSE: 75.9277 - val_loss: 4.3710 - val_MSE: 42.7623\n"
          ]
        }
      ]
    },
    {
      "cell_type": "code",
      "source": [
        "plt.plot(history2.history['MSE'])\n",
        "plt.plot(history2.history['val_MSE'])\n",
        "plt.title('model MSE')\n",
        "plt.ylabel('MSE')\n",
        "plt.xlabel('epoch')\n",
        "plt.legend(['train', 'val'], loc='upper left')\n",
        "plt.show()"
      ],
      "metadata": {
        "colab": {
          "base_uri": "https://localhost:8080/",
          "height": 295
        },
        "id": "JzsLu_vhUWTs",
        "outputId": "493959a1-0ae3-4300-cd02-dc4a9f6b4efb"
      },
      "execution_count": null,
      "outputs": [
        {
          "output_type": "display_data",
          "data": {
            "text/plain": [
              "<Figure size 432x288 with 1 Axes>"
            ],
            "image/png": "[encoded data removed]"
          },
          "metadata": {
            "needs_background": "light"
          }
        }
      ]
    },
    {
      "cell_type": "code",
      "source": [
        "plt.plot(history2.history['loss'])\n",
        "plt.plot(history2.history['val_loss'])\n",
        "plt.title('model loss')\n",
        "plt.ylabel('loss')\n",
        "plt.xlabel('epoch')\n",
        "plt.legend(['train', 'val'], loc='upper left')\n",
        "plt.show()"
      ],
      "metadata": {
        "colab": {
          "base_uri": "https://localhost:8080/",
          "height": 295
        },
        "id": "AMpzJDC6UXwn",
        "outputId": "70a22184-ded7-431f-cc80-39c6c51fcb22"
      },
      "execution_count": null,
      "outputs": [
        {
          "output_type": "display_data",
          "data": {
            "text/plain": [
              "<Figure size 432x288 with 1 Axes>"
            ],
            "image/png": "[encoded data removed]"
          },
          "metadata": {
            "needs_background": "light"
          }
        }
      ]
    },
    {
      "cell_type": "code",
      "source": [
        "model_cnn.load_weights('./ckeckpointer_cnn.ckpt')\n",
        "y_test_pred = model_cnn.predict(test_data)"
      ],
      "metadata": {
        "colab": {
          "base_uri": "https://localhost:8080/"
        },
        "id": "zQTlvOQIUbPA",
        "outputId": "9f198a0a-99c9-4ac2-ccf9-058e123276ab"
      },
      "execution_count": null,
      "outputs": [
        {
          "output_type": "stream",
          "name": "stdout",
          "text": [
            "72/72 [==============================] - 1s 12ms/step\n"
          ]
        }
      ]
    },
    {
      "cell_type": "code",
      "source": [
        "from sklearn.metrics import mean_squared_error\n",
        "from sklearn.metrics import r2_score\n",
        "\n",
        "#mse_train = mean_squared_error(y_train, y_train_pred)\n",
        "#mse_test = mean_squared_error(y_test, y_train_pred)\n",
        "mse_test = mean_squared_error(np.asarray(y_test)[6:], y_test_pred)\n",
        "\n",
        "#print(\"y1 MSE:%.4f\" % mean_squared_error(y_test_pred[24:,0], y_test_pred[24:,0]))\n",
        "#print(\"y2 MSE:%.4f\" % mean_squared_error(y_test_pred[24:,1], y_test_pred[24:,1]))\n",
        "print('MSE - 테스트 데이터 : % .2f' %(mse_test))"
      ],
      "metadata": {
        "id": "A0suSvQsci23",
        "colab": {
          "base_uri": "https://localhost:8080/"
        },
        "outputId": "e08dce04-4ae2-4414-befb-e7acc0d9475d"
      },
      "execution_count": null,
      "outputs": [
        {
          "output_type": "stream",
          "name": "stdout",
          "text": [
            "MSE - 테스트 데이터 :  64.86\n"
          ]
        }
      ]
    },
    {
      "cell_type": "code",
      "source": [
        "plt.figure(figsize=(100, 10))\n",
        "plt.plot(np.asarray(y_test)[5:], label='actual')\n",
        "plt.plot(y_test_pred, label='prediction')\n",
        "plt.legend()\n",
        "plt.show()"
      ],
      "metadata": {
        "id": "AjP0XheS4klA",
        "colab": {
          "base_uri": "https://localhost:8080/",
          "height": 124
        },
        "outputId": "9c821977-d1be-4adc-9bdf-f2aeb7c6bc53"
      },
      "execution_count": null,
      "outputs": [
        {
          "output_type": "display_data",
          "data": {
            "text/plain": [
              "<Figure size 7200x720 with 1 Axes>"
            ],
            "image/png": "[encoded data removed]"
          },
          "metadata": {
            "needs_background": "light"
          }
        }
      ]
    },
    {
      "cell_type": "code",
      "source": [
        "model_cnn.save(\"PM10_cnn\")"
      ],
      "metadata": {
        "colab": {
          "base_uri": "https://localhost:8080/"
        },
        "id": "UYQWUR1yeO3S",
        "outputId": "09dde10d-57e3-4d3c-ec76-f412b75c939e"
      },
      "execution_count": null,
      "outputs": [
        {
          "output_type": "stream",
          "name": "stderr",
          "text": [
            "WARNING:absl:Found untraced functions such as _jit_compiled_convolution_op while saving (showing 1 of 1). These functions will not be directly callable after loading.\n"
          ]
        }
      ]
    },
    {
      "cell_type": "code",
      "source": [
        "\"\"\"converter = tf.lite.TFLiteConverter.from_saved_model(\"PM10_cnn\")\n",
        "converter._experimental_lower_tensor_list_ops = False\n",
        "converter.experimental_new_converter = True\n",
        "converter.target_spec.supported_ops = [tf.lite.OpsSet.TFLITE_BUILTINS, tf.lite.OpsSet.SELECT_TF_OPS]\n",
        "converter.optimizations = [tf.lite.Optimize.DEFAULT]\n",
        "converter.target_spec.supported_types = [tf.float16]\n",
        "tflite_quant_model = converter.convert()\"\"\""
      ],
      "metadata": {
        "id": "ElBk8dvYeXo-",
        "colab": {
          "base_uri": "https://localhost:8080/",
          "height": 54
        },
        "outputId": "75b9963b-2085-446c-9036-ef649e365a10"
      },
      "execution_count": null,
      "outputs": [
        {
          "output_type": "execute_result",
          "data": {
            "text/plain": [
              "'converter = tf.lite.TFLiteConverter.from_saved_model(\"PM10_cnn\")\\nconverter._experimental_lower_tensor_list_ops = False\\nconverter.experimental_new_converter = True\\nconverter.target_spec.supported_ops = [tf.lite.OpsSet.TFLITE_BUILTINS, tf.lite.OpsSet.SELECT_TF_OPS]\\nconverter.optimizations = [tf.lite.Optimize.DEFAULT]\\nconverter.target_spec.supported_types = [tf.float16]\\ntflite_quant_model = converter.convert()'"
            ],
            "application/vnd.google.colaboratory.intrinsic+json": {
              "type": "string"
            }
          },
          "metadata": {},
          "execution_count": 106
        }
      ]
    },
    {
      "cell_type": "code",
      "source": [
        "# uint 8 양자화\n",
        "# saved_model_dir = '/content/PM10_uint16'\n",
        "def representative_data_gen():\n",
        "  for image in tf.data.Dataset.from_tensor_slices(X_train).batch(1).take(100):\n",
        "    yield [image]\n",
        "converter = tf.lite.TFLiteConverter.from_saved_model(\"PM10_cnn\")\n",
        "converter.representative_dataset = representative_data_gen\n",
        "converter.target_spec.supported_ops = [tf.lite.OpsSet.TFLITE_BUILTINS, tf.lite.OpsSet.SELECT_TF_OPS]\n",
        "converter.optimizations = [tf.lite.Optimize.DEFAULT]\n",
        "converter.target_spec.supported_types = [tf.uint8]\n",
        "tflite_quant_model = converter.convert()"
      ],
      "metadata": {
        "id": "FxITjmlHS7W-"
      },
      "execution_count": null,
      "outputs": []
    },
    {
      "cell_type": "code",
      "source": [
        "# 모델 저장\n",
        "open(\"model_PM10.tflite\", \"wb\").write(tflite_quant_model)"
      ],
      "metadata": {
        "colab": {
          "base_uri": "https://localhost:8080/"
        },
        "id": "SjPeTCKKNGz0",
        "outputId": "01f55e6e-eb9d-45c2-c41e-5b383d2973c1"
      },
      "execution_count": null,
      "outputs": [
        {
          "output_type": "execute_result",
          "data": {
            "text/plain": [
              "8896"
            ]
          },
          "metadata": {},
          "execution_count": 74
        }
      ]
    },
    {
      "cell_type": "code",
      "source": [
        "!apt-get update && apt-get -qq install xxd\n",
        "!xxd -i model_PM10.tflite > PM10_cnn_test.h"
      ],
      "metadata": {
        "id": "bw02jOn3NIup",
        "colab": {
          "base_uri": "https://localhost:8080/"
        },
        "outputId": "ff7a8b71-b35b-4ac7-f594-8718aa69e801"
      },
      "execution_count": null,
      "outputs": [
        {
          "output_type": "stream",
          "name": "stdout",
          "text": [
            "\r0% [Working]\r            \rHit:1 https://cloud.r-project.org/bin/linux/ubuntu bionic-cran40/ InRelease\n",
            "\r0% [Connecting to archive.ubuntu.com (185.125.190.36)] [Connecting to security.\r0% [1 InRelease gpgv 3,626 B] [Connecting to archive.ubuntu.com (185.125.190.36\r                                                                               \rGet:2 http://security.ubuntu.com/ubuntu bionic-security InRelease [88.7 kB]\n",
            "\r0% [1 InRelease gpgv 3,626 B] [Waiting for headers] [2 InRelease 14.2 kB/88.7 k\r                                                                               \rIgn:3 https://developer.download.nvidia.com/compute/machine-learning/repos/ubuntu1804/x86_64  InRelease\n",
            "\r0% [1 InRelease gpgv 3,626 B] [Waiting for headers] [2 InRelease 14.2 kB/88.7 k\r                                                                               \rHit:4 https://developer.download.nvidia.com/compute/cuda/repos/ubuntu1804/x86_64  InRelease\n",
            "Hit:5 http://archive.ubuntu.com/ubuntu bionic InRelease\n",
            "Hit:6 https://developer.download.nvidia.com/compute/machine-learning/repos/ubuntu1804/x86_64  Release\n",
            "Hit:7 http://ppa.launchpad.net/c2d4u.team/c2d4u4.0+/ubuntu bionic InRelease\n",
            "Get:8 http://archive.ubuntu.com/ubuntu bionic-updates InRelease [88.7 kB]\n",
            "Hit:9 http://ppa.launchpad.net/cran/libgit2/ubuntu bionic InRelease\n",
            "Get:11 http://archive.ubuntu.com/ubuntu bionic-backports InRelease [83.3 kB]\n",
            "Hit:12 http://ppa.launchpad.net/deadsnakes/ppa/ubuntu bionic InRelease\n",
            "Hit:13 http://ppa.launchpad.net/graphics-drivers/ppa/ubuntu bionic InRelease\n",
            "Fetched 261 kB in 2s (106 kB/s)\n",
            "Reading package lists... Done\n"
          ]
        }
      ]
    },
    {
      "cell_type": "code",
      "source": [],
      "metadata": {
        "id": "hwcyzkjj503r"
      },
      "execution_count": null,
      "outputs": []
    }
  ],
  "metadata": {
    "colab": {
      "provenance": []
    },
    "kernelspec": {
      "display_name": "Python 3",
      "name": "python3"
    },
    "language_info": {
      "name": "python"
    }
  },
  "nbformat": 4,
  "nbformat_minor": 0
}